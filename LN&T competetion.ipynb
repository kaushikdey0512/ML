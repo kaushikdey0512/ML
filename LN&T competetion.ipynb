{
 "cells": [
  {
   "cell_type": "code",
   "execution_count": 1,
   "metadata": {},
   "outputs": [],
   "source": [
    "import numpy as np\n",
    "import pandas as pd\n",
    "import matplotlib.pyplot as plt\n",
    "import seaborn as sns"
   ]
  },
  {
   "cell_type": "code",
   "execution_count": 2,
   "metadata": {},
   "outputs": [],
   "source": [
    "train=pd.read_csv(\"C:\\\\Users\\\\kaushik\\\\Desktop\\\\ML\\\\LN&T\\\\train.csv\")\n",
    "test=pd.read_csv(\"C:\\\\Users\\\\kaushik\\\\Desktop\\\\ML\\\\LN&T\\\\test.csv\")"
   ]
  },
  {
   "cell_type": "code",
   "execution_count": 3,
   "metadata": {},
   "outputs": [],
   "source": [
    "train['age']=pd.to_datetime(train['Date.of.Birth'],format='%d-%m-%y')\n",
    "train['age']=train['age'].apply(lambda X : 2019 - X.year)\n",
    "train['age']=train['age'].apply(lambda x : x if x>0 else -x)"
   ]
  },
  {
   "cell_type": "code",
   "execution_count": 4,
   "metadata": {},
   "outputs": [],
   "source": []
  },
  {
   "cell_type": "code",
   "execution_count": 5,
   "metadata": {},
   "outputs": [],
   "source": []
  },
  {
   "cell_type": "code",
   "execution_count": 6,
   "metadata": {},
   "outputs": [],
   "source": [
    "test['age']=pd.to_datetime(test['Date.of.Birth'],format='%d-%m-%y')\n",
    "test['age']=test['age'].apply(lambda X : 2019 - X.year)\n",
    "test['age']=test['age'].apply(lambda x : x if x>0 else -x)"
   ]
  },
  {
   "cell_type": "code",
   "execution_count": 7,
   "metadata": {},
   "outputs": [
    {
     "name": "stderr",
     "output_type": "stream",
     "text": [
      "C:\\Users\\kaushik\\Anaconda3\\lib\\site-packages\\pandas\\core\\frame.py:3694: SettingWithCopyWarning: \n",
      "A value is trying to be set on a copy of a slice from a DataFrame\n",
      "\n",
      "See the caveats in the documentation: http://pandas.pydata.org/pandas-docs/stable/indexing.html#indexing-view-versus-copy\n",
      "  errors=errors)\n"
     ]
    }
   ],
   "source": [
    "trainfeature=train.dropna(axis=0)\n",
    "trainfeature.drop(\"UniqueID\",axis=1,inplace=True)\n",
    "trainfeature.drop(\"Date.of.Birth\",axis=1,inplace=True)"
   ]
  },
  {
   "cell_type": "code",
   "execution_count": 8,
   "metadata": {},
   "outputs": [
    {
     "name": "stderr",
     "output_type": "stream",
     "text": [
      "C:\\Users\\kaushik\\Anaconda3\\lib\\site-packages\\ipykernel_launcher.py:1: SettingWithCopyWarning: \n",
      "A value is trying to be set on a copy of a slice from a DataFrame.\n",
      "Try using .loc[row_indexer,col_indexer] = value instead\n",
      "\n",
      "See the caveats in the documentation: http://pandas.pydata.org/pandas-docs/stable/indexing.html#indexing-view-versus-copy\n",
      "  \"\"\"Entry point for launching an IPython kernel.\n",
      "C:\\Users\\kaushik\\Anaconda3\\lib\\site-packages\\ipykernel_launcher.py:2: SettingWithCopyWarning: \n",
      "A value is trying to be set on a copy of a slice from a DataFrame.\n",
      "Try using .loc[row_indexer,col_indexer] = value instead\n",
      "\n",
      "See the caveats in the documentation: http://pandas.pydata.org/pandas-docs/stable/indexing.html#indexing-view-versus-copy\n",
      "  \n"
     ]
    }
   ],
   "source": [
    "trainfeature['AVERAGE.ACCT.AGE']=trainfeature['AVERAGE.ACCT.AGE'].str[:1]\n",
    "trainfeature['AVERAGE.ACCT.AGE']=trainfeature['AVERAGE.ACCT.AGE'].astype(str).astype(int)"
   ]
  },
  {
   "cell_type": "code",
   "execution_count": 9,
   "metadata": {},
   "outputs": [
    {
     "name": "stderr",
     "output_type": "stream",
     "text": [
      "C:\\Users\\kaushik\\Anaconda3\\lib\\site-packages\\ipykernel_launcher.py:1: SettingWithCopyWarning: \n",
      "A value is trying to be set on a copy of a slice from a DataFrame.\n",
      "Try using .loc[row_indexer,col_indexer] = value instead\n",
      "\n",
      "See the caveats in the documentation: http://pandas.pydata.org/pandas-docs/stable/indexing.html#indexing-view-versus-copy\n",
      "  \"\"\"Entry point for launching an IPython kernel.\n"
     ]
    }
   ],
   "source": [
    "trainfeature['CREDIT.HISTORY.LENGTH']=trainfeature['CREDIT.HISTORY.LENGTH'].str[:1].astype(int)"
   ]
  },
  {
   "cell_type": "code",
   "execution_count": 10,
   "metadata": {},
   "outputs": [
    {
     "name": "stderr",
     "output_type": "stream",
     "text": [
      "C:\\Users\\kaushik\\Anaconda3\\lib\\site-packages\\pandas\\core\\frame.py:3694: SettingWithCopyWarning: \n",
      "A value is trying to be set on a copy of a slice from a DataFrame\n",
      "\n",
      "See the caveats in the documentation: http://pandas.pydata.org/pandas-docs/stable/indexing.html#indexing-view-versus-copy\n",
      "  errors=errors)\n"
     ]
    }
   ],
   "source": [
    "trainfeature.drop('DisbursalDate',axis=1,inplace=True)"
   ]
  },
  {
   "cell_type": "code",
   "execution_count": 11,
   "metadata": {},
   "outputs": [],
   "source": [
    "trainfeature=pd.get_dummies(trainfeature,drop_first=True)"
   ]
  },
  {
   "cell_type": "code",
   "execution_count": 12,
   "metadata": {},
   "outputs": [
    {
     "data": {
      "text/plain": [
       "array([176, 126, 280, 172, 167,  85, 365, 108, 205,   0,  13,  16,  29,\n",
       "         3,   3, 151, 101,  35,  66,  83,  71,  64,   3,   0,   2,  16,\n",
       "         3,   3, 136,   3,  19,  52,  51,  49,  78, 135,  50,   1,   2,\n",
       "         4,   2,   1,   1,   5,   5,   4,   9,   1,  13,   0,   0,  12,\n",
       "         4,   9,   2,   6])"
      ]
     },
     "execution_count": 12,
     "metadata": {},
     "output_type": "execute_result"
    }
   ],
   "source": [
    "# Feature importance\n",
    "import lightgbm as lgb\n",
    "#lightGBM model fit\n",
    "gbm = lgb.LGBMRegressor()\n",
    "gbm.fit(trainfeature.drop('loan_default',axis=1), trainfeature['loan_default'])\n",
    "gbm.booster_.feature_importance()"
   ]
  },
  {
   "cell_type": "code",
   "execution_count": 13,
   "metadata": {},
   "outputs": [],
   "source": [
    "fea_imp_ = pd.DataFrame({'cols':trainfeature.drop('loan_default',axis=1).columns, 'fea_imp':gbm.feature_importances_})\n",
    "fea_imp_ =fea_imp_.loc[fea_imp_.fea_imp > 0].sort_values(by=['fea_imp'], ascending = False).reset_index(drop=True)"
   ]
  },
  {
   "cell_type": "code",
   "execution_count": 14,
   "metadata": {},
   "outputs": [],
   "source": [
    "import catboost as cb"
   ]
  },
  {
   "cell_type": "code",
   "execution_count": 15,
   "metadata": {},
   "outputs": [],
   "source": [
    "cat_ind1 = [3,4,5,6,7,8]"
   ]
  },
  {
   "cell_type": "code",
   "execution_count": 16,
   "metadata": {},
   "outputs": [],
   "source": [
    "\n",
    "cat_rg1 = cb.CatBoostRegressor(iterations=625, learning_rate=0.06, depth=8, l2_leaf_reg=10, loss_function='RMSE', random_seed=2018)"
   ]
  },
  {
   "cell_type": "code",
   "execution_count": 168,
   "metadata": {},
   "outputs": [
    {
     "name": "stdout",
     "output_type": "stream",
     "text": [
      "0:\tlearn: 0.4594024\ttotal: 438ms\tremaining: 4m 33s\n",
      "1:\tlearn: 0.4535655\ttotal: 648ms\tremaining: 3m 21s\n",
      "2:\tlearn: 0.4483832\ttotal: 808ms\tremaining: 2m 47s\n",
      "3:\tlearn: 0.4436659\ttotal: 1.05s\tremaining: 2m 43s\n",
      "4:\tlearn: 0.4394531\ttotal: 1.26s\tremaining: 2m 36s\n",
      "5:\tlearn: 0.4356429\ttotal: 1.51s\tremaining: 2m 36s\n",
      "6:\tlearn: 0.4322303\ttotal: 1.76s\tremaining: 2m 35s\n",
      "7:\tlearn: 0.4291915\ttotal: 2.02s\tremaining: 2m 35s\n",
      "8:\tlearn: 0.4264148\ttotal: 2.27s\tremaining: 2m 35s\n",
      "9:\tlearn: 0.4240004\ttotal: 2.57s\tremaining: 2m 37s\n",
      "10:\tlearn: 0.4218407\ttotal: 2.85s\tremaining: 2m 38s\n",
      "11:\tlearn: 0.4198305\ttotal: 3.12s\tremaining: 2m 39s\n",
      "12:\tlearn: 0.4180279\ttotal: 3.38s\tremaining: 2m 39s\n",
      "13:\tlearn: 0.4164388\ttotal: 3.64s\tremaining: 2m 39s\n",
      "14:\tlearn: 0.4150351\ttotal: 3.88s\tremaining: 2m 37s\n",
      "15:\tlearn: 0.4137906\ttotal: 4.14s\tremaining: 2m 37s\n",
      "16:\tlearn: 0.4126445\ttotal: 4.44s\tremaining: 2m 38s\n",
      "17:\tlearn: 0.4116582\ttotal: 4.64s\tremaining: 2m 36s\n",
      "18:\tlearn: 0.4106143\ttotal: 4.91s\tremaining: 2m 36s\n",
      "19:\tlearn: 0.4097211\ttotal: 5.12s\tremaining: 2m 34s\n",
      "20:\tlearn: 0.4089109\ttotal: 5.42s\tremaining: 2m 35s\n",
      "21:\tlearn: 0.4082211\ttotal: 5.74s\tremaining: 2m 37s\n",
      "22:\tlearn: 0.4075712\ttotal: 5.96s\tremaining: 2m 36s\n",
      "23:\tlearn: 0.4069303\ttotal: 6.24s\tremaining: 2m 36s\n",
      "24:\tlearn: 0.4063907\ttotal: 6.5s\tremaining: 2m 35s\n",
      "25:\tlearn: 0.4059220\ttotal: 6.73s\tremaining: 2m 35s\n",
      "26:\tlearn: 0.4054467\ttotal: 6.95s\tremaining: 2m 34s\n",
      "27:\tlearn: 0.4050458\ttotal: 7.22s\tremaining: 2m 33s\n",
      "28:\tlearn: 0.4047184\ttotal: 7.47s\tremaining: 2m 33s\n",
      "29:\tlearn: 0.4043703\ttotal: 7.74s\tremaining: 2m 33s\n",
      "30:\tlearn: 0.4040786\ttotal: 7.99s\tremaining: 2m 33s\n",
      "31:\tlearn: 0.4037841\ttotal: 8.25s\tremaining: 2m 32s\n",
      "32:\tlearn: 0.4035015\ttotal: 8.54s\tremaining: 2m 33s\n",
      "33:\tlearn: 0.4032411\ttotal: 8.77s\tremaining: 2m 32s\n",
      "34:\tlearn: 0.4030324\ttotal: 9.03s\tremaining: 2m 32s\n",
      "35:\tlearn: 0.4028245\ttotal: 9.24s\tremaining: 2m 31s\n",
      "36:\tlearn: 0.4026405\ttotal: 9.5s\tremaining: 2m 30s\n",
      "37:\tlearn: 0.4024285\ttotal: 9.79s\tremaining: 2m 31s\n",
      "38:\tlearn: 0.4022233\ttotal: 10s\tremaining: 2m 30s\n",
      "39:\tlearn: 0.4020565\ttotal: 10.3s\tremaining: 2m 30s\n",
      "40:\tlearn: 0.4019058\ttotal: 10.5s\tremaining: 2m 30s\n",
      "41:\tlearn: 0.4017859\ttotal: 10.7s\tremaining: 2m 28s\n",
      "42:\tlearn: 0.4016930\ttotal: 11s\tremaining: 2m 28s\n",
      "43:\tlearn: 0.4015608\ttotal: 11.2s\tremaining: 2m 27s\n",
      "44:\tlearn: 0.4014389\ttotal: 11.4s\tremaining: 2m 27s\n",
      "45:\tlearn: 0.4013396\ttotal: 11.7s\tremaining: 2m 27s\n",
      "46:\tlearn: 0.4012260\ttotal: 11.9s\tremaining: 2m 26s\n",
      "47:\tlearn: 0.4011135\ttotal: 12.2s\tremaining: 2m 26s\n",
      "48:\tlearn: 0.4010197\ttotal: 12.5s\tremaining: 2m 26s\n",
      "49:\tlearn: 0.4009308\ttotal: 12.6s\tremaining: 2m 25s\n",
      "50:\tlearn: 0.4008338\ttotal: 12.9s\tremaining: 2m 25s\n",
      "51:\tlearn: 0.4007492\ttotal: 13.1s\tremaining: 2m 24s\n",
      "52:\tlearn: 0.4006754\ttotal: 13.3s\tremaining: 2m 23s\n",
      "53:\tlearn: 0.4005885\ttotal: 13.6s\tremaining: 2m 23s\n",
      "54:\tlearn: 0.4005377\ttotal: 13.9s\tremaining: 2m 23s\n",
      "55:\tlearn: 0.4004820\ttotal: 14.1s\tremaining: 2m 23s\n",
      "56:\tlearn: 0.4004071\ttotal: 14.3s\tremaining: 2m 22s\n",
      "57:\tlearn: 0.4003388\ttotal: 14.6s\tremaining: 2m 22s\n",
      "58:\tlearn: 0.4002720\ttotal: 14.9s\tremaining: 2m 23s\n",
      "59:\tlearn: 0.4002151\ttotal: 15.2s\tremaining: 2m 22s\n",
      "60:\tlearn: 0.4001524\ttotal: 15.5s\tremaining: 2m 22s\n",
      "61:\tlearn: 0.4001122\ttotal: 15.7s\tremaining: 2m 22s\n",
      "62:\tlearn: 0.4000646\ttotal: 16s\tremaining: 2m 22s\n",
      "63:\tlearn: 0.4000029\ttotal: 16.3s\tremaining: 2m 22s\n",
      "64:\tlearn: 0.3999638\ttotal: 16.6s\tremaining: 2m 22s\n",
      "65:\tlearn: 0.3999157\ttotal: 16.9s\tremaining: 2m 22s\n",
      "66:\tlearn: 0.3998667\ttotal: 17.1s\tremaining: 2m 22s\n",
      "67:\tlearn: 0.3998257\ttotal: 17.4s\tremaining: 2m 22s\n",
      "68:\tlearn: 0.3997769\ttotal: 17.7s\tremaining: 2m 22s\n",
      "69:\tlearn: 0.3997426\ttotal: 17.9s\tremaining: 2m 21s\n",
      "70:\tlearn: 0.3996998\ttotal: 18.2s\tremaining: 2m 21s\n",
      "71:\tlearn: 0.3996616\ttotal: 18.4s\tremaining: 2m 21s\n",
      "72:\tlearn: 0.3996212\ttotal: 18.7s\tremaining: 2m 21s\n",
      "73:\tlearn: 0.3995770\ttotal: 18.9s\tremaining: 2m 20s\n",
      "74:\tlearn: 0.3995261\ttotal: 19.2s\tremaining: 2m 20s\n",
      "75:\tlearn: 0.3994852\ttotal: 19.5s\tremaining: 2m 20s\n",
      "76:\tlearn: 0.3994576\ttotal: 19.8s\tremaining: 2m 20s\n",
      "77:\tlearn: 0.3994189\ttotal: 20.1s\tremaining: 2m 21s\n",
      "78:\tlearn: 0.3993876\ttotal: 20.4s\tremaining: 2m 21s\n",
      "79:\tlearn: 0.3993667\ttotal: 20.9s\tremaining: 2m 22s\n",
      "80:\tlearn: 0.3993314\ttotal: 21.2s\tremaining: 2m 22s\n",
      "81:\tlearn: 0.3992880\ttotal: 21.4s\tremaining: 2m 22s\n",
      "82:\tlearn: 0.3992457\ttotal: 21.7s\tremaining: 2m 21s\n",
      "83:\tlearn: 0.3992053\ttotal: 22s\tremaining: 2m 21s\n",
      "84:\tlearn: 0.3991733\ttotal: 22.3s\tremaining: 2m 21s\n",
      "85:\tlearn: 0.3991483\ttotal: 22.6s\tremaining: 2m 21s\n",
      "86:\tlearn: 0.3991140\ttotal: 22.9s\tremaining: 2m 21s\n",
      "87:\tlearn: 0.3990971\ttotal: 23.2s\tremaining: 2m 21s\n",
      "88:\tlearn: 0.3990574\ttotal: 23.5s\tremaining: 2m 21s\n",
      "89:\tlearn: 0.3990351\ttotal: 23.7s\tremaining: 2m 21s\n",
      "90:\tlearn: 0.3990049\ttotal: 24s\tremaining: 2m 20s\n",
      "91:\tlearn: 0.3989832\ttotal: 24.3s\tremaining: 2m 20s\n",
      "92:\tlearn: 0.3989510\ttotal: 24.6s\tremaining: 2m 20s\n",
      "93:\tlearn: 0.3989181\ttotal: 24.9s\tremaining: 2m 20s\n",
      "94:\tlearn: 0.3988887\ttotal: 25.2s\tremaining: 2m 20s\n",
      "95:\tlearn: 0.3988559\ttotal: 25.5s\tremaining: 2m 20s\n",
      "96:\tlearn: 0.3988269\ttotal: 25.7s\tremaining: 2m 19s\n",
      "97:\tlearn: 0.3988042\ttotal: 26s\tremaining: 2m 19s\n",
      "98:\tlearn: 0.3987738\ttotal: 26.2s\tremaining: 2m 19s\n",
      "99:\tlearn: 0.3987384\ttotal: 26.5s\tremaining: 2m 19s\n",
      "100:\tlearn: 0.3987250\ttotal: 26.8s\tremaining: 2m 19s\n",
      "101:\tlearn: 0.3986978\ttotal: 27.1s\tremaining: 2m 18s\n",
      "102:\tlearn: 0.3986764\ttotal: 27.4s\tremaining: 2m 18s\n",
      "103:\tlearn: 0.3986494\ttotal: 27.7s\tremaining: 2m 18s\n",
      "104:\tlearn: 0.3986131\ttotal: 28s\tremaining: 2m 18s\n",
      "105:\tlearn: 0.3985816\ttotal: 28.3s\tremaining: 2m 18s\n",
      "106:\tlearn: 0.3985536\ttotal: 28.6s\tremaining: 2m 18s\n",
      "107:\tlearn: 0.3985285\ttotal: 28.8s\tremaining: 2m 18s\n",
      "108:\tlearn: 0.3984989\ttotal: 29.1s\tremaining: 2m 17s\n",
      "109:\tlearn: 0.3984707\ttotal: 29.4s\tremaining: 2m 17s\n",
      "110:\tlearn: 0.3984526\ttotal: 29.7s\tremaining: 2m 17s\n",
      "111:\tlearn: 0.3984242\ttotal: 29.9s\tremaining: 2m 17s\n",
      "112:\tlearn: 0.3983870\ttotal: 30.2s\tremaining: 2m 16s\n",
      "113:\tlearn: 0.3983555\ttotal: 30.5s\tremaining: 2m 16s\n",
      "114:\tlearn: 0.3983295\ttotal: 30.8s\tremaining: 2m 16s\n",
      "115:\tlearn: 0.3983025\ttotal: 31.1s\tremaining: 2m 16s\n",
      "116:\tlearn: 0.3982770\ttotal: 31.3s\tremaining: 2m 16s\n",
      "117:\tlearn: 0.3982554\ttotal: 31.7s\tremaining: 2m 16s\n",
      "118:\tlearn: 0.3982278\ttotal: 31.9s\tremaining: 2m 15s\n",
      "119:\tlearn: 0.3981904\ttotal: 32.2s\tremaining: 2m 15s\n",
      "120:\tlearn: 0.3981706\ttotal: 32.5s\tremaining: 2m 15s\n",
      "121:\tlearn: 0.3981401\ttotal: 32.8s\tremaining: 2m 15s\n",
      "122:\tlearn: 0.3981242\ttotal: 33.1s\tremaining: 2m 15s\n",
      "123:\tlearn: 0.3980982\ttotal: 33.4s\tremaining: 2m 14s\n",
      "124:\tlearn: 0.3980683\ttotal: 33.7s\tremaining: 2m 14s\n",
      "125:\tlearn: 0.3980354\ttotal: 33.9s\tremaining: 2m 14s\n",
      "126:\tlearn: 0.3980184\ttotal: 34.2s\tremaining: 2m 14s\n",
      "127:\tlearn: 0.3979833\ttotal: 34.4s\tremaining: 2m 13s\n",
      "128:\tlearn: 0.3979729\ttotal: 34.7s\tremaining: 2m 13s\n",
      "129:\tlearn: 0.3979502\ttotal: 35s\tremaining: 2m 13s\n",
      "130:\tlearn: 0.3979305\ttotal: 35.2s\tremaining: 2m 12s\n",
      "131:\tlearn: 0.3979030\ttotal: 35.6s\tremaining: 2m 12s\n",
      "132:\tlearn: 0.3978954\ttotal: 35.9s\tremaining: 2m 12s\n",
      "133:\tlearn: 0.3978887\ttotal: 36.2s\tremaining: 2m 12s\n",
      "134:\tlearn: 0.3978548\ttotal: 36.5s\tremaining: 2m 12s\n",
      "135:\tlearn: 0.3978434\ttotal: 36.9s\tremaining: 2m 12s\n",
      "136:\tlearn: 0.3978337\ttotal: 37.2s\tremaining: 2m 12s\n",
      "137:\tlearn: 0.3978079\ttotal: 37.5s\tremaining: 2m 12s\n",
      "138:\tlearn: 0.3977961\ttotal: 37.8s\tremaining: 2m 12s\n",
      "139:\tlearn: 0.3977642\ttotal: 38.1s\tremaining: 2m 12s\n",
      "140:\tlearn: 0.3977340\ttotal: 38.5s\tremaining: 2m 12s\n",
      "141:\tlearn: 0.3977051\ttotal: 38.8s\tremaining: 2m 11s\n",
      "142:\tlearn: 0.3976925\ttotal: 39.1s\tremaining: 2m 11s\n",
      "143:\tlearn: 0.3976711\ttotal: 39.4s\tremaining: 2m 11s\n",
      "144:\tlearn: 0.3976447\ttotal: 39.7s\tremaining: 2m 11s\n",
      "145:\tlearn: 0.3976329\ttotal: 40s\tremaining: 2m 11s\n",
      "146:\tlearn: 0.3976054\ttotal: 40.4s\tremaining: 2m 11s\n",
      "147:\tlearn: 0.3975864\ttotal: 40.7s\tremaining: 2m 11s\n",
      "148:\tlearn: 0.3975665\ttotal: 40.9s\tremaining: 2m 10s\n",
      "149:\tlearn: 0.3975433\ttotal: 41.2s\tremaining: 2m 10s\n",
      "150:\tlearn: 0.3975211\ttotal: 41.5s\tremaining: 2m 10s\n",
      "151:\tlearn: 0.3975079\ttotal: 41.8s\tremaining: 2m 10s\n",
      "152:\tlearn: 0.3974907\ttotal: 42.1s\tremaining: 2m 9s\n",
      "153:\tlearn: 0.3974749\ttotal: 42.4s\tremaining: 2m 9s\n",
      "154:\tlearn: 0.3974629\ttotal: 42.8s\tremaining: 2m 9s\n",
      "155:\tlearn: 0.3974463\ttotal: 43s\tremaining: 2m 9s\n",
      "156:\tlearn: 0.3974176\ttotal: 43.3s\tremaining: 2m 9s\n",
      "157:\tlearn: 0.3973978\ttotal: 43.6s\tremaining: 2m 8s\n"
     ]
    },
    {
     "name": "stdout",
     "output_type": "stream",
     "text": [
      "158:\tlearn: 0.3973842\ttotal: 43.9s\tremaining: 2m 8s\n",
      "159:\tlearn: 0.3973613\ttotal: 44.3s\tremaining: 2m 8s\n",
      "160:\tlearn: 0.3973549\ttotal: 44.6s\tremaining: 2m 8s\n",
      "161:\tlearn: 0.3973449\ttotal: 45s\tremaining: 2m 8s\n",
      "162:\tlearn: 0.3973337\ttotal: 45.3s\tremaining: 2m 8s\n",
      "163:\tlearn: 0.3973190\ttotal: 45.6s\tremaining: 2m 8s\n",
      "164:\tlearn: 0.3972917\ttotal: 45.9s\tremaining: 2m 7s\n",
      "165:\tlearn: 0.3972723\ttotal: 46.1s\tremaining: 2m 7s\n",
      "166:\tlearn: 0.3972604\ttotal: 46.5s\tremaining: 2m 7s\n",
      "167:\tlearn: 0.3972394\ttotal: 46.8s\tremaining: 2m 7s\n",
      "168:\tlearn: 0.3972270\ttotal: 47.1s\tremaining: 2m 7s\n",
      "169:\tlearn: 0.3972126\ttotal: 47.3s\tremaining: 2m 6s\n",
      "170:\tlearn: 0.3971935\ttotal: 47.6s\tremaining: 2m 6s\n",
      "171:\tlearn: 0.3971672\ttotal: 47.9s\tremaining: 2m 6s\n",
      "172:\tlearn: 0.3971563\ttotal: 48.2s\tremaining: 2m 5s\n",
      "173:\tlearn: 0.3971334\ttotal: 48.5s\tremaining: 2m 5s\n",
      "174:\tlearn: 0.3971079\ttotal: 48.8s\tremaining: 2m 5s\n",
      "175:\tlearn: 0.3970865\ttotal: 49.1s\tremaining: 2m 5s\n",
      "176:\tlearn: 0.3970663\ttotal: 49.4s\tremaining: 2m 4s\n",
      "177:\tlearn: 0.3970397\ttotal: 49.7s\tremaining: 2m 4s\n",
      "178:\tlearn: 0.3970161\ttotal: 50s\tremaining: 2m 4s\n",
      "179:\tlearn: 0.3969936\ttotal: 50.2s\tremaining: 2m 4s\n",
      "180:\tlearn: 0.3969807\ttotal: 50.4s\tremaining: 2m 3s\n",
      "181:\tlearn: 0.3969630\ttotal: 50.7s\tremaining: 2m 3s\n",
      "182:\tlearn: 0.3969509\ttotal: 51s\tremaining: 2m 3s\n",
      "183:\tlearn: 0.3969337\ttotal: 51.3s\tremaining: 2m 2s\n",
      "184:\tlearn: 0.3969170\ttotal: 51.6s\tremaining: 2m 2s\n",
      "185:\tlearn: 0.3969056\ttotal: 51.8s\tremaining: 2m 2s\n",
      "186:\tlearn: 0.3968917\ttotal: 52.1s\tremaining: 2m 1s\n",
      "187:\tlearn: 0.3968768\ttotal: 52.4s\tremaining: 2m 1s\n",
      "188:\tlearn: 0.3968694\ttotal: 52.6s\tremaining: 2m 1s\n",
      "189:\tlearn: 0.3968598\ttotal: 52.9s\tremaining: 2m 1s\n",
      "190:\tlearn: 0.3968510\ttotal: 53.2s\tremaining: 2m\n",
      "191:\tlearn: 0.3968399\ttotal: 53.5s\tremaining: 2m\n",
      "192:\tlearn: 0.3968191\ttotal: 53.8s\tremaining: 2m\n",
      "193:\tlearn: 0.3968092\ttotal: 54s\tremaining: 2m\n",
      "194:\tlearn: 0.3967961\ttotal: 54.3s\tremaining: 1m 59s\n",
      "195:\tlearn: 0.3967795\ttotal: 54.7s\tremaining: 1m 59s\n",
      "196:\tlearn: 0.3967676\ttotal: 55s\tremaining: 1m 59s\n",
      "197:\tlearn: 0.3967453\ttotal: 55.3s\tremaining: 1m 59s\n",
      "198:\tlearn: 0.3967259\ttotal: 55.6s\tremaining: 1m 59s\n",
      "199:\tlearn: 0.3967115\ttotal: 55.9s\tremaining: 1m 58s\n",
      "200:\tlearn: 0.3966931\ttotal: 56.4s\tremaining: 1m 58s\n",
      "201:\tlearn: 0.3966753\ttotal: 56.8s\tremaining: 1m 58s\n",
      "202:\tlearn: 0.3966525\ttotal: 57.2s\tremaining: 1m 58s\n",
      "203:\tlearn: 0.3966414\ttotal: 57.7s\tremaining: 1m 58s\n",
      "204:\tlearn: 0.3966288\ttotal: 58.1s\tremaining: 1m 59s\n",
      "205:\tlearn: 0.3966165\ttotal: 58.5s\tremaining: 1m 58s\n",
      "206:\tlearn: 0.3966069\ttotal: 58.8s\tremaining: 1m 58s\n",
      "207:\tlearn: 0.3965920\ttotal: 59.1s\tremaining: 1m 58s\n",
      "208:\tlearn: 0.3965716\ttotal: 59.3s\tremaining: 1m 58s\n",
      "209:\tlearn: 0.3965485\ttotal: 59.8s\tremaining: 1m 58s\n",
      "210:\tlearn: 0.3965384\ttotal: 1m\tremaining: 1m 58s\n",
      "211:\tlearn: 0.3965225\ttotal: 1m\tremaining: 1m 58s\n",
      "212:\tlearn: 0.3965062\ttotal: 1m\tremaining: 1m 57s\n",
      "213:\tlearn: 0.3964820\ttotal: 1m 1s\tremaining: 1m 57s\n",
      "214:\tlearn: 0.3964729\ttotal: 1m 1s\tremaining: 1m 57s\n",
      "215:\tlearn: 0.3964526\ttotal: 1m 1s\tremaining: 1m 57s\n",
      "216:\tlearn: 0.3964302\ttotal: 1m 2s\tremaining: 1m 57s\n",
      "217:\tlearn: 0.3964133\ttotal: 1m 2s\tremaining: 1m 56s\n",
      "218:\tlearn: 0.3963898\ttotal: 1m 2s\tremaining: 1m 56s\n",
      "219:\tlearn: 0.3963774\ttotal: 1m 3s\tremaining: 1m 56s\n",
      "220:\tlearn: 0.3963619\ttotal: 1m 3s\tremaining: 1m 56s\n",
      "221:\tlearn: 0.3963445\ttotal: 1m 3s\tremaining: 1m 55s\n",
      "222:\tlearn: 0.3963198\ttotal: 1m 4s\tremaining: 1m 55s\n",
      "223:\tlearn: 0.3963057\ttotal: 1m 4s\tremaining: 1m 55s\n",
      "224:\tlearn: 0.3962953\ttotal: 1m 4s\tremaining: 1m 55s\n",
      "225:\tlearn: 0.3962883\ttotal: 1m 5s\tremaining: 1m 54s\n",
      "226:\tlearn: 0.3962711\ttotal: 1m 5s\tremaining: 1m 54s\n",
      "227:\tlearn: 0.3962484\ttotal: 1m 5s\tremaining: 1m 54s\n",
      "228:\tlearn: 0.3962316\ttotal: 1m 6s\tremaining: 1m 54s\n",
      "229:\tlearn: 0.3962244\ttotal: 1m 6s\tremaining: 1m 54s\n",
      "230:\tlearn: 0.3962053\ttotal: 1m 6s\tremaining: 1m 53s\n",
      "231:\tlearn: 0.3961898\ttotal: 1m 7s\tremaining: 1m 53s\n",
      "232:\tlearn: 0.3961729\ttotal: 1m 7s\tremaining: 1m 53s\n",
      "233:\tlearn: 0.3961539\ttotal: 1m 7s\tremaining: 1m 53s\n",
      "234:\tlearn: 0.3961392\ttotal: 1m 8s\tremaining: 1m 52s\n",
      "235:\tlearn: 0.3961304\ttotal: 1m 8s\tremaining: 1m 52s\n",
      "236:\tlearn: 0.3961143\ttotal: 1m 8s\tremaining: 1m 52s\n",
      "237:\tlearn: 0.3960982\ttotal: 1m 8s\tremaining: 1m 52s\n",
      "238:\tlearn: 0.3960863\ttotal: 1m 9s\tremaining: 1m 51s\n",
      "239:\tlearn: 0.3960754\ttotal: 1m 9s\tremaining: 1m 51s\n",
      "240:\tlearn: 0.3960531\ttotal: 1m 9s\tremaining: 1m 51s\n",
      "241:\tlearn: 0.3960366\ttotal: 1m 10s\tremaining: 1m 50s\n",
      "242:\tlearn: 0.3960164\ttotal: 1m 10s\tremaining: 1m 50s\n",
      "243:\tlearn: 0.3959973\ttotal: 1m 10s\tremaining: 1m 50s\n",
      "244:\tlearn: 0.3959882\ttotal: 1m 10s\tremaining: 1m 50s\n",
      "245:\tlearn: 0.3959716\ttotal: 1m 11s\tremaining: 1m 49s\n",
      "246:\tlearn: 0.3959572\ttotal: 1m 11s\tremaining: 1m 49s\n",
      "247:\tlearn: 0.3959423\ttotal: 1m 11s\tremaining: 1m 49s\n",
      "248:\tlearn: 0.3959289\ttotal: 1m 12s\tremaining: 1m 48s\n",
      "249:\tlearn: 0.3959078\ttotal: 1m 12s\tremaining: 1m 48s\n",
      "250:\tlearn: 0.3958832\ttotal: 1m 12s\tremaining: 1m 48s\n",
      "251:\tlearn: 0.3958701\ttotal: 1m 12s\tremaining: 1m 48s\n",
      "252:\tlearn: 0.3958583\ttotal: 1m 13s\tremaining: 1m 47s\n",
      "253:\tlearn: 0.3958328\ttotal: 1m 13s\tremaining: 1m 47s\n",
      "254:\tlearn: 0.3958143\ttotal: 1m 13s\tremaining: 1m 47s\n",
      "255:\tlearn: 0.3958031\ttotal: 1m 14s\tremaining: 1m 46s\n",
      "256:\tlearn: 0.3957920\ttotal: 1m 14s\tremaining: 1m 46s\n",
      "257:\tlearn: 0.3957864\ttotal: 1m 14s\tremaining: 1m 46s\n",
      "258:\tlearn: 0.3957613\ttotal: 1m 14s\tremaining: 1m 45s\n",
      "259:\tlearn: 0.3957357\ttotal: 1m 15s\tremaining: 1m 45s\n",
      "260:\tlearn: 0.3957251\ttotal: 1m 15s\tremaining: 1m 45s\n",
      "261:\tlearn: 0.3957161\ttotal: 1m 15s\tremaining: 1m 45s\n",
      "262:\tlearn: 0.3956944\ttotal: 1m 16s\tremaining: 1m 44s\n",
      "263:\tlearn: 0.3956828\ttotal: 1m 16s\tremaining: 1m 44s\n",
      "264:\tlearn: 0.3956585\ttotal: 1m 16s\tremaining: 1m 44s\n",
      "265:\tlearn: 0.3956484\ttotal: 1m 17s\tremaining: 1m 44s\n",
      "266:\tlearn: 0.3956220\ttotal: 1m 17s\tremaining: 1m 43s\n",
      "267:\tlearn: 0.3956077\ttotal: 1m 17s\tremaining: 1m 43s\n",
      "268:\tlearn: 0.3955857\ttotal: 1m 18s\tremaining: 1m 43s\n",
      "269:\tlearn: 0.3955684\ttotal: 1m 18s\tremaining: 1m 43s\n",
      "270:\tlearn: 0.3955534\ttotal: 1m 18s\tremaining: 1m 42s\n",
      "271:\tlearn: 0.3955418\ttotal: 1m 18s\tremaining: 1m 42s\n",
      "272:\tlearn: 0.3955277\ttotal: 1m 19s\tremaining: 1m 42s\n",
      "273:\tlearn: 0.3955160\ttotal: 1m 19s\tremaining: 1m 41s\n",
      "274:\tlearn: 0.3955035\ttotal: 1m 19s\tremaining: 1m 41s\n",
      "275:\tlearn: 0.3954843\ttotal: 1m 20s\tremaining: 1m 41s\n",
      "276:\tlearn: 0.3954703\ttotal: 1m 20s\tremaining: 1m 40s\n",
      "277:\tlearn: 0.3954573\ttotal: 1m 20s\tremaining: 1m 40s\n",
      "278:\tlearn: 0.3954428\ttotal: 1m 20s\tremaining: 1m 40s\n",
      "279:\tlearn: 0.3954328\ttotal: 1m 21s\tremaining: 1m 40s\n",
      "280:\tlearn: 0.3954192\ttotal: 1m 21s\tremaining: 1m 39s\n",
      "281:\tlearn: 0.3954071\ttotal: 1m 21s\tremaining: 1m 39s\n",
      "282:\tlearn: 0.3954015\ttotal: 1m 22s\tremaining: 1m 39s\n",
      "283:\tlearn: 0.3953921\ttotal: 1m 22s\tremaining: 1m 38s\n",
      "284:\tlearn: 0.3953771\ttotal: 1m 22s\tremaining: 1m 38s\n",
      "285:\tlearn: 0.3953667\ttotal: 1m 22s\tremaining: 1m 38s\n",
      "286:\tlearn: 0.3953489\ttotal: 1m 23s\tremaining: 1m 38s\n",
      "287:\tlearn: 0.3953312\ttotal: 1m 23s\tremaining: 1m 37s\n",
      "288:\tlearn: 0.3953055\ttotal: 1m 23s\tremaining: 1m 37s\n",
      "289:\tlearn: 0.3952797\ttotal: 1m 24s\tremaining: 1m 37s\n",
      "290:\tlearn: 0.3952682\ttotal: 1m 24s\tremaining: 1m 36s\n",
      "291:\tlearn: 0.3952474\ttotal: 1m 24s\tremaining: 1m 36s\n",
      "292:\tlearn: 0.3952339\ttotal: 1m 25s\tremaining: 1m 36s\n",
      "293:\tlearn: 0.3952203\ttotal: 1m 25s\tremaining: 1m 36s\n",
      "294:\tlearn: 0.3951958\ttotal: 1m 25s\tremaining: 1m 35s\n",
      "295:\tlearn: 0.3951846\ttotal: 1m 25s\tremaining: 1m 35s\n",
      "296:\tlearn: 0.3951670\ttotal: 1m 26s\tremaining: 1m 35s\n",
      "297:\tlearn: 0.3951532\ttotal: 1m 26s\tremaining: 1m 34s\n",
      "298:\tlearn: 0.3951359\ttotal: 1m 26s\tremaining: 1m 34s\n",
      "299:\tlearn: 0.3951173\ttotal: 1m 27s\tremaining: 1m 34s\n",
      "300:\tlearn: 0.3951038\ttotal: 1m 27s\tremaining: 1m 33s\n",
      "301:\tlearn: 0.3950982\ttotal: 1m 27s\tremaining: 1m 33s\n",
      "302:\tlearn: 0.3950816\ttotal: 1m 27s\tremaining: 1m 33s\n",
      "303:\tlearn: 0.3950647\ttotal: 1m 28s\tremaining: 1m 33s\n",
      "304:\tlearn: 0.3950344\ttotal: 1m 28s\tremaining: 1m 32s\n",
      "305:\tlearn: 0.3950215\ttotal: 1m 28s\tremaining: 1m 32s\n",
      "306:\tlearn: 0.3950029\ttotal: 1m 29s\tremaining: 1m 32s\n",
      "307:\tlearn: 0.3949989\ttotal: 1m 29s\tremaining: 1m 31s\n",
      "308:\tlearn: 0.3949805\ttotal: 1m 29s\tremaining: 1m 31s\n",
      "309:\tlearn: 0.3949737\ttotal: 1m 29s\tremaining: 1m 31s\n",
      "310:\tlearn: 0.3949478\ttotal: 1m 30s\tremaining: 1m 31s\n",
      "311:\tlearn: 0.3949289\ttotal: 1m 30s\tremaining: 1m 30s\n",
      "312:\tlearn: 0.3949169\ttotal: 1m 30s\tremaining: 1m 30s\n"
     ]
    },
    {
     "name": "stdout",
     "output_type": "stream",
     "text": [
      "313:\tlearn: 0.3949049\ttotal: 1m 31s\tremaining: 1m 30s\n",
      "314:\tlearn: 0.3948890\ttotal: 1m 31s\tremaining: 1m 29s\n",
      "315:\tlearn: 0.3948730\ttotal: 1m 31s\tremaining: 1m 29s\n",
      "316:\tlearn: 0.3948543\ttotal: 1m 31s\tremaining: 1m 29s\n",
      "317:\tlearn: 0.3948423\ttotal: 1m 32s\tremaining: 1m 29s\n",
      "318:\tlearn: 0.3948316\ttotal: 1m 32s\tremaining: 1m 28s\n",
      "319:\tlearn: 0.3948258\ttotal: 1m 32s\tremaining: 1m 28s\n",
      "320:\tlearn: 0.3948100\ttotal: 1m 33s\tremaining: 1m 28s\n",
      "321:\tlearn: 0.3947940\ttotal: 1m 33s\tremaining: 1m 27s\n",
      "322:\tlearn: 0.3947768\ttotal: 1m 33s\tremaining: 1m 27s\n",
      "323:\tlearn: 0.3947662\ttotal: 1m 33s\tremaining: 1m 27s\n",
      "324:\tlearn: 0.3947505\ttotal: 1m 34s\tremaining: 1m 26s\n",
      "325:\tlearn: 0.3947407\ttotal: 1m 34s\tremaining: 1m 26s\n",
      "326:\tlearn: 0.3947238\ttotal: 1m 34s\tremaining: 1m 26s\n",
      "327:\tlearn: 0.3947075\ttotal: 1m 35s\tremaining: 1m 26s\n",
      "328:\tlearn: 0.3947008\ttotal: 1m 35s\tremaining: 1m 25s\n",
      "329:\tlearn: 0.3946846\ttotal: 1m 35s\tremaining: 1m 25s\n",
      "330:\tlearn: 0.3946713\ttotal: 1m 35s\tremaining: 1m 25s\n",
      "331:\tlearn: 0.3946591\ttotal: 1m 36s\tremaining: 1m 24s\n",
      "332:\tlearn: 0.3946504\ttotal: 1m 36s\tremaining: 1m 24s\n",
      "333:\tlearn: 0.3946432\ttotal: 1m 36s\tremaining: 1m 24s\n",
      "334:\tlearn: 0.3946287\ttotal: 1m 37s\tremaining: 1m 24s\n",
      "335:\tlearn: 0.3946191\ttotal: 1m 37s\tremaining: 1m 23s\n",
      "336:\tlearn: 0.3946012\ttotal: 1m 37s\tremaining: 1m 23s\n",
      "337:\tlearn: 0.3945824\ttotal: 1m 38s\tremaining: 1m 23s\n",
      "338:\tlearn: 0.3945644\ttotal: 1m 38s\tremaining: 1m 22s\n",
      "339:\tlearn: 0.3945394\ttotal: 1m 38s\tremaining: 1m 22s\n",
      "340:\tlearn: 0.3945305\ttotal: 1m 38s\tremaining: 1m 22s\n",
      "341:\tlearn: 0.3945220\ttotal: 1m 39s\tremaining: 1m 22s\n",
      "342:\tlearn: 0.3945147\ttotal: 1m 39s\tremaining: 1m 21s\n",
      "343:\tlearn: 0.3945022\ttotal: 1m 39s\tremaining: 1m 21s\n",
      "344:\tlearn: 0.3944902\ttotal: 1m 40s\tremaining: 1m 21s\n",
      "345:\tlearn: 0.3944752\ttotal: 1m 40s\tremaining: 1m 20s\n",
      "346:\tlearn: 0.3944657\ttotal: 1m 40s\tremaining: 1m 20s\n",
      "347:\tlearn: 0.3944602\ttotal: 1m 40s\tremaining: 1m 20s\n",
      "348:\tlearn: 0.3944472\ttotal: 1m 41s\tremaining: 1m 20s\n",
      "349:\tlearn: 0.3944392\ttotal: 1m 41s\tremaining: 1m 19s\n",
      "350:\tlearn: 0.3944179\ttotal: 1m 41s\tremaining: 1m 19s\n",
      "351:\tlearn: 0.3944011\ttotal: 1m 42s\tremaining: 1m 19s\n",
      "352:\tlearn: 0.3943894\ttotal: 1m 42s\tremaining: 1m 18s\n",
      "353:\tlearn: 0.3943731\ttotal: 1m 42s\tremaining: 1m 18s\n",
      "354:\tlearn: 0.3943625\ttotal: 1m 43s\tremaining: 1m 18s\n",
      "355:\tlearn: 0.3943568\ttotal: 1m 43s\tremaining: 1m 18s\n",
      "356:\tlearn: 0.3943461\ttotal: 1m 43s\tremaining: 1m 17s\n",
      "357:\tlearn: 0.3943368\ttotal: 1m 44s\tremaining: 1m 17s\n",
      "358:\tlearn: 0.3943241\ttotal: 1m 44s\tremaining: 1m 17s\n",
      "359:\tlearn: 0.3943117\ttotal: 1m 44s\tremaining: 1m 17s\n",
      "360:\tlearn: 0.3943057\ttotal: 1m 44s\tremaining: 1m 16s\n",
      "361:\tlearn: 0.3942980\ttotal: 1m 45s\tremaining: 1m 16s\n",
      "362:\tlearn: 0.3942727\ttotal: 1m 45s\tremaining: 1m 16s\n",
      "363:\tlearn: 0.3942657\ttotal: 1m 45s\tremaining: 1m 15s\n",
      "364:\tlearn: 0.3942559\ttotal: 1m 46s\tremaining: 1m 15s\n",
      "365:\tlearn: 0.3942454\ttotal: 1m 46s\tremaining: 1m 15s\n",
      "366:\tlearn: 0.3942246\ttotal: 1m 46s\tremaining: 1m 15s\n",
      "367:\tlearn: 0.3941984\ttotal: 1m 47s\tremaining: 1m 14s\n",
      "368:\tlearn: 0.3941784\ttotal: 1m 47s\tremaining: 1m 14s\n",
      "369:\tlearn: 0.3941646\ttotal: 1m 47s\tremaining: 1m 14s\n",
      "370:\tlearn: 0.3941581\ttotal: 1m 48s\tremaining: 1m 14s\n",
      "371:\tlearn: 0.3941511\ttotal: 1m 48s\tremaining: 1m 13s\n",
      "372:\tlearn: 0.3941395\ttotal: 1m 48s\tremaining: 1m 13s\n",
      "373:\tlearn: 0.3941204\ttotal: 1m 49s\tremaining: 1m 13s\n",
      "374:\tlearn: 0.3941099\ttotal: 1m 49s\tremaining: 1m 12s\n",
      "375:\tlearn: 0.3940956\ttotal: 1m 49s\tremaining: 1m 12s\n",
      "376:\tlearn: 0.3940867\ttotal: 1m 49s\tremaining: 1m 12s\n",
      "377:\tlearn: 0.3940618\ttotal: 1m 50s\tremaining: 1m 12s\n",
      "378:\tlearn: 0.3940432\ttotal: 1m 50s\tremaining: 1m 11s\n",
      "379:\tlearn: 0.3940331\ttotal: 1m 50s\tremaining: 1m 11s\n",
      "380:\tlearn: 0.3940231\ttotal: 1m 51s\tremaining: 1m 11s\n",
      "381:\tlearn: 0.3940117\ttotal: 1m 51s\tremaining: 1m 10s\n",
      "382:\tlearn: 0.3940009\ttotal: 1m 51s\tremaining: 1m 10s\n",
      "383:\tlearn: 0.3939875\ttotal: 1m 52s\tremaining: 1m 10s\n",
      "384:\tlearn: 0.3939747\ttotal: 1m 52s\tremaining: 1m 10s\n",
      "385:\tlearn: 0.3939568\ttotal: 1m 52s\tremaining: 1m 9s\n",
      "386:\tlearn: 0.3939348\ttotal: 1m 52s\tremaining: 1m 9s\n",
      "387:\tlearn: 0.3939162\ttotal: 1m 53s\tremaining: 1m 9s\n",
      "388:\tlearn: 0.3938937\ttotal: 1m 53s\tremaining: 1m 8s\n",
      "389:\tlearn: 0.3938884\ttotal: 1m 53s\tremaining: 1m 8s\n",
      "390:\tlearn: 0.3938683\ttotal: 1m 54s\tremaining: 1m 8s\n",
      "391:\tlearn: 0.3938637\ttotal: 1m 54s\tremaining: 1m 7s\n",
      "392:\tlearn: 0.3938394\ttotal: 1m 54s\tremaining: 1m 7s\n",
      "393:\tlearn: 0.3938289\ttotal: 1m 54s\tremaining: 1m 7s\n",
      "394:\tlearn: 0.3938157\ttotal: 1m 55s\tremaining: 1m 7s\n",
      "395:\tlearn: 0.3938012\ttotal: 1m 55s\tremaining: 1m 6s\n",
      "396:\tlearn: 0.3937773\ttotal: 1m 55s\tremaining: 1m 6s\n",
      "397:\tlearn: 0.3937635\ttotal: 1m 56s\tremaining: 1m 6s\n",
      "398:\tlearn: 0.3937490\ttotal: 1m 56s\tremaining: 1m 5s\n",
      "399:\tlearn: 0.3937336\ttotal: 1m 56s\tremaining: 1m 5s\n",
      "400:\tlearn: 0.3937272\ttotal: 1m 56s\tremaining: 1m 5s\n",
      "401:\tlearn: 0.3937247\ttotal: 1m 57s\tremaining: 1m 5s\n",
      "402:\tlearn: 0.3937051\ttotal: 1m 57s\tremaining: 1m 4s\n",
      "403:\tlearn: 0.3936942\ttotal: 1m 57s\tremaining: 1m 4s\n",
      "404:\tlearn: 0.3936864\ttotal: 1m 58s\tremaining: 1m 4s\n",
      "405:\tlearn: 0.3936733\ttotal: 1m 58s\tremaining: 1m 3s\n",
      "406:\tlearn: 0.3936600\ttotal: 1m 58s\tremaining: 1m 3s\n",
      "407:\tlearn: 0.3936450\ttotal: 1m 58s\tremaining: 1m 3s\n",
      "408:\tlearn: 0.3936361\ttotal: 1m 59s\tremaining: 1m 2s\n",
      "409:\tlearn: 0.3936295\ttotal: 1m 59s\tremaining: 1m 2s\n",
      "410:\tlearn: 0.3936111\ttotal: 1m 59s\tremaining: 1m 2s\n",
      "411:\tlearn: 0.3935885\ttotal: 2m\tremaining: 1m 2s\n",
      "412:\tlearn: 0.3935779\ttotal: 2m\tremaining: 1m 1s\n",
      "413:\tlearn: 0.3935708\ttotal: 2m\tremaining: 1m 1s\n",
      "414:\tlearn: 0.3935453\ttotal: 2m 1s\tremaining: 1m 1s\n",
      "415:\tlearn: 0.3935362\ttotal: 2m 1s\tremaining: 1m 1s\n",
      "416:\tlearn: 0.3935246\ttotal: 2m 1s\tremaining: 1m\n",
      "417:\tlearn: 0.3935079\ttotal: 2m 2s\tremaining: 1m\n",
      "418:\tlearn: 0.3934827\ttotal: 2m 2s\tremaining: 1m\n",
      "419:\tlearn: 0.3934698\ttotal: 2m 2s\tremaining: 59.9s\n",
      "420:\tlearn: 0.3934515\ttotal: 2m 2s\tremaining: 59.6s\n",
      "421:\tlearn: 0.3934436\ttotal: 2m 3s\tremaining: 59.3s\n",
      "422:\tlearn: 0.3934324\ttotal: 2m 3s\tremaining: 59s\n",
      "423:\tlearn: 0.3934224\ttotal: 2m 3s\tremaining: 58.7s\n",
      "424:\tlearn: 0.3934104\ttotal: 2m 4s\tremaining: 58.4s\n",
      "425:\tlearn: 0.3934043\ttotal: 2m 4s\tremaining: 58.1s\n",
      "426:\tlearn: 0.3933935\ttotal: 2m 4s\tremaining: 57.9s\n",
      "427:\tlearn: 0.3933782\ttotal: 2m 5s\tremaining: 57.6s\n",
      "428:\tlearn: 0.3933641\ttotal: 2m 5s\tremaining: 57.3s\n",
      "429:\tlearn: 0.3933462\ttotal: 2m 5s\tremaining: 57s\n",
      "430:\tlearn: 0.3933303\ttotal: 2m 5s\tremaining: 56.7s\n",
      "431:\tlearn: 0.3933173\ttotal: 2m 6s\tremaining: 56.4s\n",
      "432:\tlearn: 0.3932985\ttotal: 2m 6s\tremaining: 56.1s\n",
      "433:\tlearn: 0.3932897\ttotal: 2m 6s\tremaining: 55.8s\n",
      "434:\tlearn: 0.3932795\ttotal: 2m 7s\tremaining: 55.5s\n",
      "435:\tlearn: 0.3932647\ttotal: 2m 7s\tremaining: 55.2s\n",
      "436:\tlearn: 0.3932522\ttotal: 2m 7s\tremaining: 54.9s\n",
      "437:\tlearn: 0.3932404\ttotal: 2m 7s\tremaining: 54.6s\n",
      "438:\tlearn: 0.3932271\ttotal: 2m 8s\tremaining: 54.3s\n",
      "439:\tlearn: 0.3932087\ttotal: 2m 8s\tremaining: 54.1s\n",
      "440:\tlearn: 0.3931988\ttotal: 2m 9s\tremaining: 53.9s\n",
      "441:\tlearn: 0.3931888\ttotal: 2m 9s\tremaining: 53.6s\n",
      "442:\tlearn: 0.3931847\ttotal: 2m 9s\tremaining: 53.3s\n",
      "443:\tlearn: 0.3931713\ttotal: 2m 10s\tremaining: 53s\n",
      "444:\tlearn: 0.3931611\ttotal: 2m 10s\tremaining: 52.8s\n",
      "445:\tlearn: 0.3931366\ttotal: 2m 10s\tremaining: 52.5s\n",
      "446:\tlearn: 0.3931259\ttotal: 2m 11s\tremaining: 52.2s\n",
      "447:\tlearn: 0.3931097\ttotal: 2m 11s\tremaining: 51.9s\n",
      "448:\tlearn: 0.3930919\ttotal: 2m 11s\tremaining: 51.6s\n",
      "449:\tlearn: 0.3930743\ttotal: 2m 11s\tremaining: 51.3s\n",
      "450:\tlearn: 0.3930633\ttotal: 2m 12s\tremaining: 51s\n",
      "451:\tlearn: 0.3930553\ttotal: 2m 12s\tremaining: 50.8s\n",
      "452:\tlearn: 0.3930412\ttotal: 2m 13s\tremaining: 50.6s\n",
      "453:\tlearn: 0.3930271\ttotal: 2m 13s\tremaining: 50.3s\n",
      "454:\tlearn: 0.3930152\ttotal: 2m 13s\tremaining: 50s\n",
      "455:\tlearn: 0.3929986\ttotal: 2m 14s\tremaining: 49.7s\n",
      "456:\tlearn: 0.3929744\ttotal: 2m 14s\tremaining: 49.4s\n",
      "457:\tlearn: 0.3929480\ttotal: 2m 14s\tremaining: 49.2s\n",
      "458:\tlearn: 0.3929357\ttotal: 2m 15s\tremaining: 48.9s\n",
      "459:\tlearn: 0.3929249\ttotal: 2m 15s\tremaining: 48.6s\n",
      "460:\tlearn: 0.3929141\ttotal: 2m 15s\tremaining: 48.3s\n",
      "461:\tlearn: 0.3928899\ttotal: 2m 16s\tremaining: 48s\n",
      "462:\tlearn: 0.3928762\ttotal: 2m 16s\tremaining: 47.7s\n",
      "463:\tlearn: 0.3928657\ttotal: 2m 16s\tremaining: 47.5s\n",
      "464:\tlearn: 0.3928551\ttotal: 2m 17s\tremaining: 47.2s\n",
      "465:\tlearn: 0.3928399\ttotal: 2m 17s\tremaining: 46.9s\n",
      "466:\tlearn: 0.3928313\ttotal: 2m 17s\tremaining: 46.7s\n",
      "467:\tlearn: 0.3928255\ttotal: 2m 18s\tremaining: 46.4s\n"
     ]
    },
    {
     "name": "stdout",
     "output_type": "stream",
     "text": [
      "468:\tlearn: 0.3928014\ttotal: 2m 18s\tremaining: 46.1s\n",
      "469:\tlearn: 0.3927951\ttotal: 2m 18s\tremaining: 45.8s\n",
      "470:\tlearn: 0.3927893\ttotal: 2m 19s\tremaining: 45.5s\n",
      "471:\tlearn: 0.3927805\ttotal: 2m 19s\tremaining: 45.2s\n",
      "472:\tlearn: 0.3927774\ttotal: 2m 19s\tremaining: 44.9s\n",
      "473:\tlearn: 0.3927712\ttotal: 2m 19s\tremaining: 44.6s\n",
      "474:\tlearn: 0.3927629\ttotal: 2m 20s\tremaining: 44.3s\n",
      "475:\tlearn: 0.3927407\ttotal: 2m 20s\tremaining: 44s\n",
      "476:\tlearn: 0.3927298\ttotal: 2m 20s\tremaining: 43.7s\n",
      "477:\tlearn: 0.3927172\ttotal: 2m 21s\tremaining: 43.4s\n",
      "478:\tlearn: 0.3927026\ttotal: 2m 21s\tremaining: 43.1s\n",
      "479:\tlearn: 0.3926859\ttotal: 2m 21s\tremaining: 42.8s\n",
      "480:\tlearn: 0.3926654\ttotal: 2m 22s\tremaining: 42.5s\n",
      "481:\tlearn: 0.3926559\ttotal: 2m 22s\tremaining: 42.2s\n",
      "482:\tlearn: 0.3926449\ttotal: 2m 22s\tremaining: 41.9s\n",
      "483:\tlearn: 0.3926320\ttotal: 2m 22s\tremaining: 41.6s\n",
      "484:\tlearn: 0.3926161\ttotal: 2m 23s\tremaining: 41.3s\n",
      "485:\tlearn: 0.3925950\ttotal: 2m 23s\tremaining: 41.1s\n",
      "486:\tlearn: 0.3925804\ttotal: 2m 23s\tremaining: 40.8s\n",
      "487:\tlearn: 0.3925628\ttotal: 2m 24s\tremaining: 40.5s\n",
      "488:\tlearn: 0.3925546\ttotal: 2m 24s\tremaining: 40.2s\n",
      "489:\tlearn: 0.3925372\ttotal: 2m 24s\tremaining: 39.9s\n",
      "490:\tlearn: 0.3925168\ttotal: 2m 25s\tremaining: 39.6s\n",
      "491:\tlearn: 0.3925013\ttotal: 2m 25s\tremaining: 39.3s\n",
      "492:\tlearn: 0.3924832\ttotal: 2m 25s\tremaining: 39s\n",
      "493:\tlearn: 0.3924672\ttotal: 2m 25s\tremaining: 38.7s\n",
      "494:\tlearn: 0.3924564\ttotal: 2m 26s\tremaining: 38.4s\n",
      "495:\tlearn: 0.3924464\ttotal: 2m 26s\tremaining: 38.1s\n",
      "496:\tlearn: 0.3924361\ttotal: 2m 26s\tremaining: 37.8s\n",
      "497:\tlearn: 0.3924194\ttotal: 2m 27s\tremaining: 37.5s\n",
      "498:\tlearn: 0.3923977\ttotal: 2m 27s\tremaining: 37.2s\n",
      "499:\tlearn: 0.3923863\ttotal: 2m 27s\tremaining: 36.9s\n",
      "500:\tlearn: 0.3923730\ttotal: 2m 27s\tremaining: 36.6s\n",
      "501:\tlearn: 0.3923663\ttotal: 2m 28s\tremaining: 36.3s\n",
      "502:\tlearn: 0.3923590\ttotal: 2m 28s\tremaining: 36s\n",
      "503:\tlearn: 0.3923360\ttotal: 2m 28s\tremaining: 35.7s\n",
      "504:\tlearn: 0.3923260\ttotal: 2m 29s\tremaining: 35.4s\n",
      "505:\tlearn: 0.3923221\ttotal: 2m 29s\tremaining: 35.1s\n",
      "506:\tlearn: 0.3923017\ttotal: 2m 29s\tremaining: 34.9s\n",
      "507:\tlearn: 0.3922883\ttotal: 2m 30s\tremaining: 34.6s\n",
      "508:\tlearn: 0.3922722\ttotal: 2m 30s\tremaining: 34.3s\n",
      "509:\tlearn: 0.3922569\ttotal: 2m 30s\tremaining: 34s\n",
      "510:\tlearn: 0.3922549\ttotal: 2m 31s\tremaining: 33.7s\n",
      "511:\tlearn: 0.3922461\ttotal: 2m 31s\tremaining: 33.4s\n",
      "512:\tlearn: 0.3922401\ttotal: 2m 31s\tremaining: 33.2s\n",
      "513:\tlearn: 0.3922233\ttotal: 2m 32s\tremaining: 32.9s\n",
      "514:\tlearn: 0.3922148\ttotal: 2m 32s\tremaining: 32.6s\n",
      "515:\tlearn: 0.3922072\ttotal: 2m 32s\tremaining: 32.3s\n",
      "516:\tlearn: 0.3921889\ttotal: 2m 33s\tremaining: 32s\n",
      "517:\tlearn: 0.3921760\ttotal: 2m 33s\tremaining: 31.7s\n",
      "518:\tlearn: 0.3921503\ttotal: 2m 33s\tremaining: 31.4s\n",
      "519:\tlearn: 0.3921419\ttotal: 2m 34s\tremaining: 31.1s\n",
      "520:\tlearn: 0.3921267\ttotal: 2m 34s\tremaining: 30.9s\n",
      "521:\tlearn: 0.3921105\ttotal: 2m 34s\tremaining: 30.6s\n",
      "522:\tlearn: 0.3921032\ttotal: 2m 35s\tremaining: 30.3s\n",
      "523:\tlearn: 0.3920877\ttotal: 2m 35s\tremaining: 30s\n",
      "524:\tlearn: 0.3920753\ttotal: 2m 35s\tremaining: 29.7s\n",
      "525:\tlearn: 0.3920655\ttotal: 2m 36s\tremaining: 29.4s\n",
      "526:\tlearn: 0.3920496\ttotal: 2m 36s\tremaining: 29.1s\n",
      "527:\tlearn: 0.3920426\ttotal: 2m 36s\tremaining: 28.8s\n",
      "528:\tlearn: 0.3920344\ttotal: 2m 37s\tremaining: 28.5s\n",
      "529:\tlearn: 0.3920224\ttotal: 2m 37s\tremaining: 28.2s\n",
      "530:\tlearn: 0.3920150\ttotal: 2m 37s\tremaining: 27.9s\n",
      "531:\tlearn: 0.3920092\ttotal: 2m 38s\tremaining: 27.6s\n",
      "532:\tlearn: 0.3919998\ttotal: 2m 38s\tremaining: 27.3s\n",
      "533:\tlearn: 0.3919864\ttotal: 2m 38s\tremaining: 27s\n",
      "534:\tlearn: 0.3919799\ttotal: 2m 38s\tremaining: 26.7s\n",
      "535:\tlearn: 0.3919683\ttotal: 2m 39s\tremaining: 26.4s\n",
      "536:\tlearn: 0.3919596\ttotal: 2m 39s\tremaining: 26.1s\n",
      "537:\tlearn: 0.3919451\ttotal: 2m 39s\tremaining: 25.8s\n",
      "538:\tlearn: 0.3919355\ttotal: 2m 39s\tremaining: 25.5s\n",
      "539:\tlearn: 0.3919299\ttotal: 2m 40s\tremaining: 25.2s\n",
      "540:\tlearn: 0.3919163\ttotal: 2m 40s\tremaining: 24.9s\n",
      "541:\tlearn: 0.3919041\ttotal: 2m 40s\tremaining: 24.6s\n",
      "542:\tlearn: 0.3918874\ttotal: 2m 41s\tremaining: 24.3s\n",
      "543:\tlearn: 0.3918788\ttotal: 2m 41s\tremaining: 24s\n",
      "544:\tlearn: 0.3918599\ttotal: 2m 41s\tremaining: 23.7s\n",
      "545:\tlearn: 0.3918530\ttotal: 2m 41s\tremaining: 23.4s\n",
      "546:\tlearn: 0.3918490\ttotal: 2m 42s\tremaining: 23.1s\n",
      "547:\tlearn: 0.3918390\ttotal: 2m 42s\tremaining: 22.8s\n",
      "548:\tlearn: 0.3918239\ttotal: 2m 42s\tremaining: 22.5s\n",
      "549:\tlearn: 0.3918125\ttotal: 2m 43s\tremaining: 22.3s\n",
      "550:\tlearn: 0.3917914\ttotal: 2m 43s\tremaining: 22s\n",
      "551:\tlearn: 0.3917800\ttotal: 2m 43s\tremaining: 21.7s\n",
      "552:\tlearn: 0.3917745\ttotal: 2m 44s\tremaining: 21.4s\n",
      "553:\tlearn: 0.3917688\ttotal: 2m 44s\tremaining: 21.1s\n",
      "554:\tlearn: 0.3917529\ttotal: 2m 44s\tremaining: 20.8s\n",
      "555:\tlearn: 0.3917350\ttotal: 2m 45s\tremaining: 20.5s\n",
      "556:\tlearn: 0.3917224\ttotal: 2m 45s\tremaining: 20.2s\n",
      "557:\tlearn: 0.3917101\ttotal: 2m 45s\tremaining: 19.9s\n",
      "558:\tlearn: 0.3917048\ttotal: 2m 45s\tremaining: 19.6s\n",
      "559:\tlearn: 0.3916956\ttotal: 2m 46s\tremaining: 19.3s\n",
      "560:\tlearn: 0.3916858\ttotal: 2m 46s\tremaining: 19s\n",
      "561:\tlearn: 0.3916681\ttotal: 2m 46s\tremaining: 18.7s\n",
      "562:\tlearn: 0.3916561\ttotal: 2m 47s\tremaining: 18.4s\n",
      "563:\tlearn: 0.3916290\ttotal: 2m 47s\tremaining: 18.1s\n",
      "564:\tlearn: 0.3916143\ttotal: 2m 47s\tremaining: 17.8s\n",
      "565:\tlearn: 0.3916057\ttotal: 2m 47s\tremaining: 17.5s\n",
      "566:\tlearn: 0.3915937\ttotal: 2m 48s\tremaining: 17.2s\n",
      "567:\tlearn: 0.3915804\ttotal: 2m 48s\tremaining: 16.9s\n",
      "568:\tlearn: 0.3915712\ttotal: 2m 49s\tremaining: 16.7s\n",
      "569:\tlearn: 0.3915524\ttotal: 2m 49s\tremaining: 16.4s\n",
      "570:\tlearn: 0.3915358\ttotal: 2m 49s\tremaining: 16.1s\n",
      "571:\tlearn: 0.3915243\ttotal: 2m 50s\tremaining: 15.8s\n",
      "572:\tlearn: 0.3915148\ttotal: 2m 50s\tremaining: 15.5s\n",
      "573:\tlearn: 0.3915114\ttotal: 2m 50s\tremaining: 15.2s\n",
      "574:\tlearn: 0.3915031\ttotal: 2m 51s\tremaining: 14.9s\n",
      "575:\tlearn: 0.3914944\ttotal: 2m 51s\tremaining: 14.6s\n",
      "576:\tlearn: 0.3914894\ttotal: 2m 51s\tremaining: 14.3s\n",
      "577:\tlearn: 0.3914852\ttotal: 2m 52s\tremaining: 14s\n",
      "578:\tlearn: 0.3914807\ttotal: 2m 52s\tremaining: 13.7s\n",
      "579:\tlearn: 0.3914762\ttotal: 2m 52s\tremaining: 13.4s\n",
      "580:\tlearn: 0.3914637\ttotal: 2m 52s\tremaining: 13.1s\n",
      "581:\tlearn: 0.3914544\ttotal: 2m 53s\tremaining: 12.8s\n",
      "582:\tlearn: 0.3914326\ttotal: 2m 53s\tremaining: 12.5s\n",
      "583:\tlearn: 0.3914281\ttotal: 2m 53s\tremaining: 12.2s\n",
      "584:\tlearn: 0.3914164\ttotal: 2m 54s\tremaining: 11.9s\n",
      "585:\tlearn: 0.3914047\ttotal: 2m 54s\tremaining: 11.6s\n",
      "586:\tlearn: 0.3913967\ttotal: 2m 54s\tremaining: 11.3s\n",
      "587:\tlearn: 0.3913874\ttotal: 2m 54s\tremaining: 11s\n",
      "588:\tlearn: 0.3913758\ttotal: 2m 55s\tremaining: 10.7s\n",
      "589:\tlearn: 0.3913681\ttotal: 2m 55s\tremaining: 10.4s\n",
      "590:\tlearn: 0.3913576\ttotal: 2m 55s\tremaining: 10.1s\n",
      "591:\tlearn: 0.3913469\ttotal: 2m 56s\tremaining: 9.81s\n",
      "592:\tlearn: 0.3913273\ttotal: 2m 56s\tremaining: 9.52s\n",
      "593:\tlearn: 0.3913189\ttotal: 2m 56s\tremaining: 9.22s\n",
      "594:\tlearn: 0.3913101\ttotal: 2m 56s\tremaining: 8.92s\n",
      "595:\tlearn: 0.3912937\ttotal: 2m 57s\tremaining: 8.63s\n",
      "596:\tlearn: 0.3912761\ttotal: 2m 57s\tremaining: 8.33s\n",
      "597:\tlearn: 0.3912681\ttotal: 2m 57s\tremaining: 8.03s\n",
      "598:\tlearn: 0.3912533\ttotal: 2m 58s\tremaining: 7.73s\n",
      "599:\tlearn: 0.3912377\ttotal: 2m 58s\tremaining: 7.43s\n",
      "600:\tlearn: 0.3912275\ttotal: 2m 58s\tremaining: 7.14s\n",
      "601:\tlearn: 0.3912148\ttotal: 2m 58s\tremaining: 6.84s\n",
      "602:\tlearn: 0.3912088\ttotal: 2m 59s\tremaining: 6.54s\n",
      "603:\tlearn: 0.3912043\ttotal: 2m 59s\tremaining: 6.24s\n",
      "604:\tlearn: 0.3911915\ttotal: 2m 59s\tremaining: 5.94s\n",
      "605:\tlearn: 0.3911697\ttotal: 3m\tremaining: 5.64s\n",
      "606:\tlearn: 0.3911643\ttotal: 3m\tremaining: 5.35s\n",
      "607:\tlearn: 0.3911525\ttotal: 3m\tremaining: 5.05s\n",
      "608:\tlearn: 0.3911392\ttotal: 3m\tremaining: 4.75s\n",
      "609:\tlearn: 0.3911281\ttotal: 3m 1s\tremaining: 4.46s\n",
      "610:\tlearn: 0.3911212\ttotal: 3m 1s\tremaining: 4.16s\n",
      "611:\tlearn: 0.3911122\ttotal: 3m 1s\tremaining: 3.86s\n",
      "612:\tlearn: 0.3911011\ttotal: 3m 2s\tremaining: 3.56s\n",
      "613:\tlearn: 0.3910896\ttotal: 3m 2s\tremaining: 3.27s\n",
      "614:\tlearn: 0.3910850\ttotal: 3m 2s\tremaining: 2.97s\n",
      "615:\tlearn: 0.3910673\ttotal: 3m 2s\tremaining: 2.67s\n",
      "616:\tlearn: 0.3910547\ttotal: 3m 3s\tremaining: 2.38s\n",
      "617:\tlearn: 0.3910450\ttotal: 3m 3s\tremaining: 2.08s\n",
      "618:\tlearn: 0.3910365\ttotal: 3m 3s\tremaining: 1.78s\n",
      "619:\tlearn: 0.3910185\ttotal: 3m 4s\tremaining: 1.48s\n",
      "620:\tlearn: 0.3910127\ttotal: 3m 4s\tremaining: 1.19s\n",
      "621:\tlearn: 0.3910056\ttotal: 3m 4s\tremaining: 891ms\n",
      "622:\tlearn: 0.3909841\ttotal: 3m 4s\tremaining: 594ms\n",
      "623:\tlearn: 0.3909718\ttotal: 3m 5s\tremaining: 297ms\n"
     ]
    },
    {
     "name": "stdout",
     "output_type": "stream",
     "text": [
      "624:\tlearn: 0.3909625\ttotal: 3m 5s\tremaining: 0us\n"
     ]
    },
    {
     "data": {
      "text/plain": [
       "<catboost.core.CatBoostRegressor at 0x2068203f940>"
      ]
     },
     "execution_count": 168,
     "metadata": {},
     "output_type": "execute_result"
    }
   ],
   "source": [
    "cat_rg1.fit(X=trainfeature.drop('loan_default',axis=1), y=trainfeature['loan_default'], cat_features=cat_ind1, verbose=True)"
   ]
  },
  {
   "cell_type": "code",
   "execution_count": 170,
   "metadata": {},
   "outputs": [
    {
     "data": {
      "image/png": "[encoded data removed]",
      "text/plain": [
       "<Figure size 720x2160 with 1 Axes>"
      ]
     },
     "metadata": {},
     "output_type": "display_data"
    }
   ],
   "source": [
    "fig, ax = plt.subplots(figsize=(10, 30))\n",
    "sns.barplot(cat_rg1.feature_importances_, trainfeature.drop('loan_default',axis=1).columns, ax=ax)\n",
    "plt.show()"
   ]
  },
  {
   "cell_type": "code",
   "execution_count": 171,
   "metadata": {},
   "outputs": [],
   "source": [
    "fea_imp_cat_ = pd.DataFrame({'cols':trainfeature.drop('loan_default',axis=1).columns, 'fea_imp':cat_rg1.feature_importances_})\n",
    "fea_imp_cat_ =fea_imp_cat_.loc[fea_imp_cat_.fea_imp > 0].sort_values(by=['fea_imp'], ascending = False).reset_index(drop=True)"
   ]
  },
  {
   "cell_type": "code",
   "execution_count": 17,
   "metadata": {},
   "outputs": [
    {
     "data": {
      "text/plain": [
       "3269"
      ]
     },
     "execution_count": 17,
     "metadata": {},
     "output_type": "execute_result"
    }
   ],
   "source": [
    "trainfeature['Employee_code_ID'].nunique()"
   ]
  },
  {
   "cell_type": "code",
   "execution_count": 13,
   "metadata": {},
   "outputs": [
    {
     "name": "stderr",
     "output_type": "stream",
     "text": [
      "C:\\Users\\kaushik\\Anaconda3\\lib\\site-packages\\matplotlib\\axes\\_axes.py:6462: UserWarning: The 'normed' kwarg is deprecated, and has been replaced by the 'density' kwarg.\n",
      "  warnings.warn(\"The 'normed' kwarg is deprecated, and has been \"\n"
     ]
    },
    {
     "data": {
      "text/plain": [
       "<matplotlib.axes._subplots.AxesSubplot at 0x1bb2457cef0>"
      ]
     },
     "execution_count": 13,
     "metadata": {},
     "output_type": "execute_result"
    },
    {
     "data": {
      "image/png": "[encoded data removed]",
      "text/plain": [
       "<Figure size 432x288 with 1 Axes>"
      ]
     },
     "metadata": {},
     "output_type": "display_data"
    }
   ],
   "source": [
    "sns.distplot(np.log(trainfeature['disbursed_amount']))"
   ]
  },
  {
   "cell_type": "code",
   "execution_count": 14,
   "metadata": {},
   "outputs": [
    {
     "data": {
      "text/plain": [
       "13.80278391672554"
      ]
     },
     "execution_count": 14,
     "metadata": {},
     "output_type": "execute_result"
    }
   ],
   "source": [
    "np.log(trainfeature['disbursed_amount']).max()"
   ]
  },
  {
   "cell_type": "code",
   "execution_count": 15,
   "metadata": {},
   "outputs": [
    {
     "data": {
      "text/plain": [
       "10.874437371536859"
      ]
     },
     "execution_count": 15,
     "metadata": {},
     "output_type": "execute_result"
    }
   ],
   "source": [
    "np.log(trainfeature['disbursed_amount']).mean()"
   ]
  },
  {
   "cell_type": "code",
   "execution_count": 16,
   "metadata": {},
   "outputs": [
    {
     "name": "stderr",
     "output_type": "stream",
     "text": [
      "C:\\Users\\kaushik\\Anaconda3\\lib\\site-packages\\matplotlib\\axes\\_axes.py:6462: UserWarning: The 'normed' kwarg is deprecated, and has been replaced by the 'density' kwarg.\n",
      "  warnings.warn(\"The 'normed' kwarg is deprecated, and has been \"\n"
     ]
    },
    {
     "data": {
      "text/plain": [
       "<matplotlib.axes._subplots.AxesSubplot at 0x1bb24d948d0>"
      ]
     },
     "execution_count": 16,
     "metadata": {},
     "output_type": "execute_result"
    },
    {
     "data": {
      "image/png": "[encoded data removed]",
      "text/plain": [
       "<Figure size 432x288 with 1 Axes>"
      ]
     },
     "metadata": {},
     "output_type": "display_data"
    }
   ],
   "source": [
    "sns.distplot(np.log(trainfeature['asset_cost']))"
   ]
  },
  {
   "cell_type": "code",
   "execution_count": 17,
   "metadata": {},
   "outputs": [
    {
     "name": "stderr",
     "output_type": "stream",
     "text": [
      "C:\\Users\\kaushik\\Anaconda3\\lib\\site-packages\\matplotlib\\axes\\_axes.py:6462: UserWarning: The 'normed' kwarg is deprecated, and has been replaced by the 'density' kwarg.\n",
      "  warnings.warn(\"The 'normed' kwarg is deprecated, and has been \"\n"
     ]
    },
    {
     "data": {
      "text/plain": [
       "<matplotlib.axes._subplots.AxesSubplot at 0x1bb24e2ec18>"
      ]
     },
     "execution_count": 17,
     "metadata": {},
     "output_type": "execute_result"
    },
    {
     "data": {
      "image/png": "[encoded data removed]",
      "text/plain": [
       "<Figure size 432x288 with 1 Axes>"
      ]
     },
     "metadata": {},
     "output_type": "display_data"
    }
   ],
   "source": [
    "sns.distplot(trainfeature['PRIMARY.INSTAL.AMT'])"
   ]
  },
  {
   "cell_type": "code",
   "execution_count": 18,
   "metadata": {},
   "outputs": [
    {
     "data": {
      "text/plain": [
       "disbursed_amount                                                                         153544\n",
       "asset_cost                                                                               153544\n",
       "ltv                                                                                      153544\n",
       "branch_id                                                                                153544\n",
       "supplier_id                                                                              153544\n",
       "manufacturer_id                                                                          153544\n",
       "Current_pincode_ID                                                                       153544\n",
       "State_ID                                                                                 153544\n",
       "Employee_code_ID                                                                         153544\n",
       "MobileNo_Avl_Flag                                                                        153544\n",
       "Aadhar_flag                                                                              153544\n",
       "PAN_flag                                                                                 153544\n",
       "VoterID_flag                                                                             153544\n",
       "Driving_flag                                                                             153544\n",
       "Passport_flag                                                                            153544\n",
       "PERFORM_CNS.SCORE                                                                        153544\n",
       "PRI.NO.OF.ACCTS                                                                          153544\n",
       "PRI.ACTIVE.ACCTS                                                                         153544\n",
       "PRI.OVERDUE.ACCTS                                                                        153544\n",
       "PRI.CURRENT.BALANCE                                                                      153544\n",
       "PRI.SANCTIONED.AMOUNT                                                                    153544\n",
       "PRI.DISBURSED.AMOUNT                                                                     153544\n",
       "SEC.NO.OF.ACCTS                                                                          153544\n",
       "SEC.ACTIVE.ACCTS                                                                         153544\n",
       "SEC.OVERDUE.ACCTS                                                                        153544\n",
       "SEC.CURRENT.BALANCE                                                                      153544\n",
       "SEC.SANCTIONED.AMOUNT                                                                    153544\n",
       "SEC.DISBURSED.AMOUNT                                                                     153544\n",
       "PRIMARY.INSTAL.AMT                                                                       153544\n",
       "SEC.INSTAL.AMT                                                                           153544\n",
       "NEW.ACCTS.IN.LAST.SIX.MONTHS                                                             153544\n",
       "DELINQUENT.ACCTS.IN.LAST.SIX.MONTHS                                                      153544\n",
       "AVERAGE.ACCT.AGE                                                                         153544\n",
       "CREDIT.HISTORY.LENGTH                                                                    153544\n",
       "NO.OF_INQUIRIES                                                                          153544\n",
       "loan_default                                                                             153544\n",
       "age                                                                                      153544\n",
       "Employment.Type_Self employed                                                            153544\n",
       "PERFORM_CNS.SCORE.DESCRIPTION_B-Very Low Risk                                            153544\n",
       "PERFORM_CNS.SCORE.DESCRIPTION_C-Very Low Risk                                            153544\n",
       "PERFORM_CNS.SCORE.DESCRIPTION_D-Very Low Risk                                            153544\n",
       "PERFORM_CNS.SCORE.DESCRIPTION_E-Low Risk                                                 153544\n",
       "PERFORM_CNS.SCORE.DESCRIPTION_F-Low Risk                                                 153544\n",
       "PERFORM_CNS.SCORE.DESCRIPTION_G-Low Risk                                                 153544\n",
       "PERFORM_CNS.SCORE.DESCRIPTION_H-Medium Risk                                              153544\n",
       "PERFORM_CNS.SCORE.DESCRIPTION_I-Medium Risk                                              153544\n",
       "PERFORM_CNS.SCORE.DESCRIPTION_J-High Risk                                                153544\n",
       "PERFORM_CNS.SCORE.DESCRIPTION_K-High Risk                                                153544\n",
       "PERFORM_CNS.SCORE.DESCRIPTION_L-Very High Risk                                           153544\n",
       "PERFORM_CNS.SCORE.DESCRIPTION_M-Very High Risk                                           153544\n",
       "PERFORM_CNS.SCORE.DESCRIPTION_No Bureau History Available                                153544\n",
       "PERFORM_CNS.SCORE.DESCRIPTION_Not Scored: More than 50 active Accounts found             153544\n",
       "PERFORM_CNS.SCORE.DESCRIPTION_Not Scored: No Activity seen on the customer (Inactive)    153544\n",
       "PERFORM_CNS.SCORE.DESCRIPTION_Not Scored: No Updates available in last 36 months         153544\n",
       "PERFORM_CNS.SCORE.DESCRIPTION_Not Scored: Not Enough Info available on the customer      153544\n",
       "PERFORM_CNS.SCORE.DESCRIPTION_Not Scored: Only a Guarantor                               153544\n",
       "PERFORM_CNS.SCORE.DESCRIPTION_Not Scored: Sufficient History Not Available               153544\n",
       "dtype: int64"
      ]
     },
     "execution_count": 18,
     "metadata": {},
     "output_type": "execute_result"
    }
   ],
   "source": [
    "trainfeature[trainfeature['PRIMARY.INSTAL.AMT']<1].count()"
   ]
  },
  {
   "cell_type": "code",
   "execution_count": 19,
   "metadata": {},
   "outputs": [],
   "source": [
    "trainfeature.loc[trainfeature['PRIMARY.INSTAL.AMT']>1,'PRIMARY.INSTAL.AMT']=1"
   ]
  },
  {
   "cell_type": "code",
   "execution_count": 20,
   "metadata": {},
   "outputs": [
    {
     "data": {
      "text/plain": [
       "array([0, 1], dtype=int64)"
      ]
     },
     "execution_count": 20,
     "metadata": {},
     "output_type": "execute_result"
    }
   ],
   "source": [
    "trainfeature['PRIMARY.INSTAL.AMT'].unique()"
   ]
  },
  {
   "cell_type": "code",
   "execution_count": 21,
   "metadata": {},
   "outputs": [
    {
     "name": "stderr",
     "output_type": "stream",
     "text": [
      "C:\\Users\\kaushik\\Anaconda3\\lib\\site-packages\\matplotlib\\axes\\_axes.py:6462: UserWarning: The 'normed' kwarg is deprecated, and has been replaced by the 'density' kwarg.\n",
      "  warnings.warn(\"The 'normed' kwarg is deprecated, and has been \"\n"
     ]
    },
    {
     "data": {
      "text/plain": [
       "<matplotlib.axes._subplots.AxesSubplot at 0x1bb24ea8908>"
      ]
     },
     "execution_count": 21,
     "metadata": {},
     "output_type": "execute_result"
    },
    {
     "data": {
      "image/png": "[encoded data removed]",
      "text/plain": [
       "<Figure size 432x288 with 1 Axes>"
      ]
     },
     "metadata": {},
     "output_type": "display_data"
    }
   ],
   "source": [
    "sns.distplot(trainfeature['SEC.INSTAL.AMT'])"
   ]
  },
  {
   "cell_type": "code",
   "execution_count": 22,
   "metadata": {},
   "outputs": [],
   "source": [
    "trainfeature.loc[trainfeature['SEC.INSTAL.AMT']>1,'SEC.INSTAL.AMT']=1"
   ]
  },
  {
   "cell_type": "code",
   "execution_count": 23,
   "metadata": {},
   "outputs": [
    {
     "data": {
      "text/plain": [
       "array([0, 1], dtype=uint64)"
      ]
     },
     "execution_count": 23,
     "metadata": {},
     "output_type": "execute_result"
    }
   ],
   "source": [
    "trainfeature['Employment.Type_Self employed'].unique()"
   ]
  },
  {
   "cell_type": "code",
   "execution_count": 24,
   "metadata": {},
   "outputs": [
    {
     "data": {
      "text/plain": [
       "<matplotlib.axes._subplots.AxesSubplot at 0x1bb25c63da0>"
      ]
     },
     "execution_count": 24,
     "metadata": {},
     "output_type": "execute_result"
    },
    {
     "data": {
      "image/png": "[encoded data removed]",
      "text/plain": [
       "<Figure size 432x288 with 1 Axes>"
      ]
     },
     "metadata": {},
     "output_type": "display_data"
    }
   ],
   "source": [
    "sns.countplot(trainfeature['Employment.Type_Self employed'])"
   ]
  },
  {
   "cell_type": "code",
   "execution_count": 25,
   "metadata": {},
   "outputs": [
    {
     "name": "stderr",
     "output_type": "stream",
     "text": [
      "C:\\Users\\kaushik\\Anaconda3\\lib\\site-packages\\matplotlib\\axes\\_axes.py:6462: UserWarning: The 'normed' kwarg is deprecated, and has been replaced by the 'density' kwarg.\n",
      "  warnings.warn(\"The 'normed' kwarg is deprecated, and has been \"\n",
      "C:\\Users\\kaushik\\Anaconda3\\lib\\site-packages\\matplotlib\\axes\\_axes.py:6462: UserWarning: The 'normed' kwarg is deprecated, and has been replaced by the 'density' kwarg.\n",
      "  warnings.warn(\"The 'normed' kwarg is deprecated, and has been \"\n"
     ]
    },
    {
     "data": {
      "text/plain": [
       "<seaborn.axisgrid.JointGrid at 0x1bb24f2f048>"
      ]
     },
     "execution_count": 25,
     "metadata": {},
     "output_type": "execute_result"
    },
    {
     "data": {
      "image/png": "[encoded data removed]",
      "text/plain": [
       "<Figure size 432x432 with 3 Axes>"
      ]
     },
     "metadata": {},
     "output_type": "display_data"
    }
   ],
   "source": [
    "sns.jointplot(x='disbursed_amount',y='asset_cost',data=trainfeature,kind='hex')"
   ]
  },
  {
   "cell_type": "code",
   "execution_count": 26,
   "metadata": {
    "scrolled": true
   },
   "outputs": [
    {
     "name": "stdout",
     "output_type": "stream",
     "text": [
      "<class 'pandas.core.frame.DataFrame'>\n",
      "Int64Index: 225493 entries, 0 to 233153\n",
      "Data columns (total 57 columns):\n",
      "disbursed_amount                                                                         225493 non-null int64\n",
      "asset_cost                                                                               225493 non-null int64\n",
      "ltv                                                                                      225493 non-null float64\n",
      "branch_id                                                                                225493 non-null int64\n",
      "supplier_id                                                                              225493 non-null int64\n",
      "manufacturer_id                                                                          225493 non-null int64\n",
      "Current_pincode_ID                                                                       225493 non-null int64\n",
      "State_ID                                                                                 225493 non-null int64\n",
      "Employee_code_ID                                                                         225493 non-null int64\n",
      "MobileNo_Avl_Flag                                                                        225493 non-null int64\n",
      "Aadhar_flag                                                                              225493 non-null int64\n",
      "PAN_flag                                                                                 225493 non-null int64\n",
      "VoterID_flag                                                                             225493 non-null int64\n",
      "Driving_flag                                                                             225493 non-null int64\n",
      "Passport_flag                                                                            225493 non-null int64\n",
      "PERFORM_CNS.SCORE                                                                        225493 non-null int64\n",
      "PRI.NO.OF.ACCTS                                                                          225493 non-null int64\n",
      "PRI.ACTIVE.ACCTS                                                                         225493 non-null int64\n",
      "PRI.OVERDUE.ACCTS                                                                        225493 non-null int64\n",
      "PRI.CURRENT.BALANCE                                                                      225493 non-null int64\n",
      "PRI.SANCTIONED.AMOUNT                                                                    225493 non-null int64\n",
      "PRI.DISBURSED.AMOUNT                                                                     225493 non-null int64\n",
      "SEC.NO.OF.ACCTS                                                                          225493 non-null int64\n",
      "SEC.ACTIVE.ACCTS                                                                         225493 non-null int64\n",
      "SEC.OVERDUE.ACCTS                                                                        225493 non-null int64\n",
      "SEC.CURRENT.BALANCE                                                                      225493 non-null int64\n",
      "SEC.SANCTIONED.AMOUNT                                                                    225493 non-null int64\n",
      "SEC.DISBURSED.AMOUNT                                                                     225493 non-null int64\n",
      "PRIMARY.INSTAL.AMT                                                                       225493 non-null int64\n",
      "SEC.INSTAL.AMT                                                                           225493 non-null int64\n",
      "NEW.ACCTS.IN.LAST.SIX.MONTHS                                                             225493 non-null int64\n",
      "DELINQUENT.ACCTS.IN.LAST.SIX.MONTHS                                                      225493 non-null int64\n",
      "AVERAGE.ACCT.AGE                                                                         225493 non-null int32\n",
      "CREDIT.HISTORY.LENGTH                                                                    225493 non-null int32\n",
      "NO.OF_INQUIRIES                                                                          225493 non-null int64\n",
      "loan_default                                                                             225493 non-null int64\n",
      "age                                                                                      225493 non-null int64\n",
      "Employment.Type_Self employed                                                            225493 non-null uint8\n",
      "PERFORM_CNS.SCORE.DESCRIPTION_B-Very Low Risk                                            225493 non-null uint8\n",
      "PERFORM_CNS.SCORE.DESCRIPTION_C-Very Low Risk                                            225493 non-null uint8\n",
      "PERFORM_CNS.SCORE.DESCRIPTION_D-Very Low Risk                                            225493 non-null uint8\n",
      "PERFORM_CNS.SCORE.DESCRIPTION_E-Low Risk                                                 225493 non-null uint8\n",
      "PERFORM_CNS.SCORE.DESCRIPTION_F-Low Risk                                                 225493 non-null uint8\n",
      "PERFORM_CNS.SCORE.DESCRIPTION_G-Low Risk                                                 225493 non-null uint8\n",
      "PERFORM_CNS.SCORE.DESCRIPTION_H-Medium Risk                                              225493 non-null uint8\n",
      "PERFORM_CNS.SCORE.DESCRIPTION_I-Medium Risk                                              225493 non-null uint8\n",
      "PERFORM_CNS.SCORE.DESCRIPTION_J-High Risk                                                225493 non-null uint8\n",
      "PERFORM_CNS.SCORE.DESCRIPTION_K-High Risk                                                225493 non-null uint8\n",
      "PERFORM_CNS.SCORE.DESCRIPTION_L-Very High Risk                                           225493 non-null uint8\n",
      "PERFORM_CNS.SCORE.DESCRIPTION_M-Very High Risk                                           225493 non-null uint8\n",
      "PERFORM_CNS.SCORE.DESCRIPTION_No Bureau History Available                                225493 non-null uint8\n",
      "PERFORM_CNS.SCORE.DESCRIPTION_Not Scored: More than 50 active Accounts found             225493 non-null uint8\n",
      "PERFORM_CNS.SCORE.DESCRIPTION_Not Scored: No Activity seen on the customer (Inactive)    225493 non-null uint8\n",
      "PERFORM_CNS.SCORE.DESCRIPTION_Not Scored: No Updates available in last 36 months         225493 non-null uint8\n",
      "PERFORM_CNS.SCORE.DESCRIPTION_Not Scored: Not Enough Info available on the customer      225493 non-null uint8\n",
      "PERFORM_CNS.SCORE.DESCRIPTION_Not Scored: Only a Guarantor                               225493 non-null uint8\n",
      "PERFORM_CNS.SCORE.DESCRIPTION_Not Scored: Sufficient History Not Available               225493 non-null uint8\n",
      "dtypes: float64(1), int32(2), int64(34), uint8(20)\n",
      "memory usage: 78.0 MB\n"
     ]
    }
   ],
   "source": [
    "trainfeature.info()"
   ]
  },
  {
   "cell_type": "code",
   "execution_count": 27,
   "metadata": {},
   "outputs": [
    {
     "name": "stderr",
     "output_type": "stream",
     "text": [
      "C:\\Users\\kaushik\\Anaconda3\\lib\\site-packages\\matplotlib\\axes\\_axes.py:6462: UserWarning: The 'normed' kwarg is deprecated, and has been replaced by the 'density' kwarg.\n",
      "  warnings.warn(\"The 'normed' kwarg is deprecated, and has been \"\n"
     ]
    },
    {
     "data": {
      "text/plain": [
       "<matplotlib.axes._subplots.AxesSubplot at 0x1bb26204c50>"
      ]
     },
     "execution_count": 27,
     "metadata": {},
     "output_type": "execute_result"
    },
    {
     "data": {
      "image/png": "[encoded data removed]",
      "text/plain": [
       "<Figure size 432x288 with 1 Axes>"
      ]
     },
     "metadata": {},
     "output_type": "display_data"
    }
   ],
   "source": [
    "sns.distplot(trainfeature['PERFORM_CNS.SCORE'])"
   ]
  },
  {
   "cell_type": "code",
   "execution_count": 28,
   "metadata": {},
   "outputs": [
    {
     "data": {
      "text/plain": [
       "<matplotlib.axes._subplots.AxesSubplot at 0x1bb25daae10>"
      ]
     },
     "execution_count": 28,
     "metadata": {},
     "output_type": "execute_result"
    },
    {
     "data": {
      "image/png": "[encoded data removed]",
      "text/plain": [
       "<Figure size 432x288 with 1 Axes>"
      ]
     },
     "metadata": {},
     "output_type": "display_data"
    }
   ],
   "source": [
    "sns.boxplot(y='PERFORM_CNS.SCORE',x='loan_default',data=trainfeature)"
   ]
  },
  {
   "cell_type": "code",
   "execution_count": 39,
   "metadata": {},
   "outputs": [],
   "source": [
    "trainfeature.loc[(trainfeature['PERFORM_CNS.SCORE']>=0) & (trainfeature['PERFORM_CNS.SCORE']<200),'PERFORM_CNS.SCORE']=0"
   ]
  },
  {
   "cell_type": "code",
   "execution_count": 40,
   "metadata": {},
   "outputs": [],
   "source": [
    "trainfeature.loc[(trainfeature['PERFORM_CNS.SCORE']>=200) & (trainfeature['PERFORM_CNS.SCORE']<600),'PERFORM_CNS.SCORE']=1"
   ]
  },
  {
   "cell_type": "code",
   "execution_count": 41,
   "metadata": {},
   "outputs": [],
   "source": [
    "trainfeature.loc[(trainfeature['PERFORM_CNS.SCORE']>=600),'PERFORM_CNS.SCORE']=2"
   ]
  },
  {
   "cell_type": "code",
   "execution_count": 42,
   "metadata": {},
   "outputs": [
    {
     "data": {
      "text/plain": [
       "array([0, 1, 2], dtype=int64)"
      ]
     },
     "execution_count": 42,
     "metadata": {},
     "output_type": "execute_result"
    }
   ],
   "source": [
    "trainfeature['PERFORM_CNS.SCORE'].unique()"
   ]
  },
  {
   "cell_type": "code",
   "execution_count": 34,
   "metadata": {},
   "outputs": [
    {
     "data": {
      "text/plain": [
       "<matplotlib.axes._subplots.AxesSubplot at 0x2311ac9e5f8>"
      ]
     },
     "execution_count": 34,
     "metadata": {},
     "output_type": "execute_result"
    },
    {
     "data": {
      "image/png": "[encoded data removed]",
      "text/plain": [
       "<Figure size 432x288 with 1 Axes>"
      ]
     },
     "metadata": {},
     "output_type": "display_data"
    }
   ],
   "source": [
    "sns.boxplot(y='Current_pincode_ID',x='Employment.Type_Self employed',data=trainfeature)"
   ]
  },
  {
   "cell_type": "code",
   "execution_count": 35,
   "metadata": {},
   "outputs": [],
   "source": [
    "trainfeature['no of proofs']=trainfeature['Aadhar_flag'] + trainfeature['PAN_flag'] + trainfeature['VoterID_flag'] + trainfeature['Driving_flag'] + trainfeature['Passport_flag']"
   ]
  },
  {
   "cell_type": "code",
   "execution_count": 36,
   "metadata": {},
   "outputs": [
    {
     "data": {
      "text/html": [
       "<div>\n",
       "<style scoped>\n",
       "    .dataframe tbody tr th:only-of-type {\n",
       "        vertical-align: middle;\n",
       "    }\n",
       "\n",
       "    .dataframe tbody tr th {\n",
       "        vertical-align: top;\n",
       "    }\n",
       "\n",
       "    .dataframe thead th {\n",
       "        text-align: right;\n",
       "    }\n",
       "</style>\n",
       "<table border=\"1\" class=\"dataframe\">\n",
       "  <thead>\n",
       "    <tr style=\"text-align: right;\">\n",
       "      <th></th>\n",
       "      <th>disbursed_amount</th>\n",
       "      <th>asset_cost</th>\n",
       "      <th>ltv</th>\n",
       "      <th>branch_id</th>\n",
       "      <th>supplier_id</th>\n",
       "      <th>manufacturer_id</th>\n",
       "      <th>Current_pincode_ID</th>\n",
       "      <th>State_ID</th>\n",
       "      <th>Employee_code_ID</th>\n",
       "      <th>MobileNo_Avl_Flag</th>\n",
       "      <th>...</th>\n",
       "      <th>PERFORM_CNS.SCORE.DESCRIPTION_L-Very High Risk</th>\n",
       "      <th>PERFORM_CNS.SCORE.DESCRIPTION_M-Very High Risk</th>\n",
       "      <th>PERFORM_CNS.SCORE.DESCRIPTION_No Bureau History Available</th>\n",
       "      <th>PERFORM_CNS.SCORE.DESCRIPTION_Not Scored: More than 50 active Accounts found</th>\n",
       "      <th>PERFORM_CNS.SCORE.DESCRIPTION_Not Scored: No Activity seen on the customer (Inactive)</th>\n",
       "      <th>PERFORM_CNS.SCORE.DESCRIPTION_Not Scored: No Updates available in last 36 months</th>\n",
       "      <th>PERFORM_CNS.SCORE.DESCRIPTION_Not Scored: Not Enough Info available on the customer</th>\n",
       "      <th>PERFORM_CNS.SCORE.DESCRIPTION_Not Scored: Only a Guarantor</th>\n",
       "      <th>PERFORM_CNS.SCORE.DESCRIPTION_Not Scored: Sufficient History Not Available</th>\n",
       "      <th>no of proofs</th>\n",
       "    </tr>\n",
       "  </thead>\n",
       "  <tbody>\n",
       "  </tbody>\n",
       "</table>\n",
       "<p>0 rows × 58 columns</p>\n",
       "</div>"
      ],
      "text/plain": [
       "Empty DataFrame\n",
       "Columns: [disbursed_amount, asset_cost, ltv, branch_id, supplier_id, manufacturer_id, Current_pincode_ID, State_ID, Employee_code_ID, MobileNo_Avl_Flag, Aadhar_flag, PAN_flag, VoterID_flag, Driving_flag, Passport_flag, PERFORM_CNS.SCORE, PRI.NO.OF.ACCTS, PRI.ACTIVE.ACCTS, PRI.OVERDUE.ACCTS, PRI.CURRENT.BALANCE, PRI.SANCTIONED.AMOUNT, PRI.DISBURSED.AMOUNT, SEC.NO.OF.ACCTS, SEC.ACTIVE.ACCTS, SEC.OVERDUE.ACCTS, SEC.CURRENT.BALANCE, SEC.SANCTIONED.AMOUNT, SEC.DISBURSED.AMOUNT, PRIMARY.INSTAL.AMT, SEC.INSTAL.AMT, NEW.ACCTS.IN.LAST.SIX.MONTHS, DELINQUENT.ACCTS.IN.LAST.SIX.MONTHS, AVERAGE.ACCT.AGE, CREDIT.HISTORY.LENGTH, NO.OF_INQUIRIES, loan_default, age, Employment.Type_Self employed, PERFORM_CNS.SCORE.DESCRIPTION_B-Very Low Risk, PERFORM_CNS.SCORE.DESCRIPTION_C-Very Low Risk, PERFORM_CNS.SCORE.DESCRIPTION_D-Very Low Risk, PERFORM_CNS.SCORE.DESCRIPTION_E-Low Risk, PERFORM_CNS.SCORE.DESCRIPTION_F-Low Risk, PERFORM_CNS.SCORE.DESCRIPTION_G-Low Risk, PERFORM_CNS.SCORE.DESCRIPTION_H-Medium Risk, PERFORM_CNS.SCORE.DESCRIPTION_I-Medium Risk, PERFORM_CNS.SCORE.DESCRIPTION_J-High Risk, PERFORM_CNS.SCORE.DESCRIPTION_K-High Risk, PERFORM_CNS.SCORE.DESCRIPTION_L-Very High Risk, PERFORM_CNS.SCORE.DESCRIPTION_M-Very High Risk, PERFORM_CNS.SCORE.DESCRIPTION_No Bureau History Available, PERFORM_CNS.SCORE.DESCRIPTION_Not Scored: More than 50 active Accounts found, PERFORM_CNS.SCORE.DESCRIPTION_Not Scored: No Activity seen on the customer (Inactive), PERFORM_CNS.SCORE.DESCRIPTION_Not Scored: No Updates available in last 36 months, PERFORM_CNS.SCORE.DESCRIPTION_Not Scored: Not Enough Info available on the customer, PERFORM_CNS.SCORE.DESCRIPTION_Not Scored: Only a Guarantor, PERFORM_CNS.SCORE.DESCRIPTION_Not Scored: Sufficient History Not Available, no of proofs]\n",
       "Index: []\n",
       "\n",
       "[0 rows x 58 columns]"
      ]
     },
     "execution_count": 36,
     "metadata": {},
     "output_type": "execute_result"
    }
   ],
   "source": [
    "trainfeature[trainfeature['no of proofs']<1]"
   ]
  },
  {
   "cell_type": "code",
   "execution_count": 43,
   "metadata": {},
   "outputs": [
    {
     "name": "stdout",
     "output_type": "stream",
     "text": [
      "<class 'pandas.core.frame.DataFrame'>\n",
      "Int64Index: 225493 entries, 0 to 233153\n",
      "Data columns (total 57 columns):\n",
      "disbursed_amount                                                                         225493 non-null int64\n",
      "asset_cost                                                                               225493 non-null int64\n",
      "ltv                                                                                      225493 non-null float64\n",
      "branch_id                                                                                225493 non-null int64\n",
      "supplier_id                                                                              225493 non-null int64\n",
      "manufacturer_id                                                                          225493 non-null int64\n",
      "Current_pincode_ID                                                                       225493 non-null int64\n",
      "State_ID                                                                                 225493 non-null int64\n",
      "Employee_code_ID                                                                         225493 non-null int64\n",
      "MobileNo_Avl_Flag                                                                        225493 non-null int64\n",
      "Aadhar_flag                                                                              225493 non-null int64\n",
      "PAN_flag                                                                                 225493 non-null int64\n",
      "VoterID_flag                                                                             225493 non-null int64\n",
      "Driving_flag                                                                             225493 non-null int64\n",
      "Passport_flag                                                                            225493 non-null int64\n",
      "PERFORM_CNS.SCORE                                                                        225493 non-null int64\n",
      "PRI.NO.OF.ACCTS                                                                          225493 non-null int64\n",
      "PRI.ACTIVE.ACCTS                                                                         225493 non-null int64\n",
      "PRI.OVERDUE.ACCTS                                                                        225493 non-null int64\n",
      "PRI.CURRENT.BALANCE                                                                      225493 non-null int64\n",
      "PRI.SANCTIONED.AMOUNT                                                                    225493 non-null int64\n",
      "PRI.DISBURSED.AMOUNT                                                                     225493 non-null int64\n",
      "SEC.NO.OF.ACCTS                                                                          225493 non-null int64\n",
      "SEC.ACTIVE.ACCTS                                                                         225493 non-null int64\n",
      "SEC.OVERDUE.ACCTS                                                                        225493 non-null int64\n",
      "SEC.CURRENT.BALANCE                                                                      225493 non-null int64\n",
      "SEC.SANCTIONED.AMOUNT                                                                    225493 non-null int64\n",
      "SEC.DISBURSED.AMOUNT                                                                     225493 non-null int64\n",
      "PRIMARY.INSTAL.AMT                                                                       225493 non-null int64\n",
      "SEC.INSTAL.AMT                                                                           225493 non-null int64\n",
      "NEW.ACCTS.IN.LAST.SIX.MONTHS                                                             225493 non-null int64\n",
      "DELINQUENT.ACCTS.IN.LAST.SIX.MONTHS                                                      225493 non-null int64\n",
      "AVERAGE.ACCT.AGE                                                                         225493 non-null int32\n",
      "CREDIT.HISTORY.LENGTH                                                                    225493 non-null int32\n",
      "NO.OF_INQUIRIES                                                                          225493 non-null int64\n",
      "loan_default                                                                             225493 non-null int64\n",
      "age                                                                                      225493 non-null int64\n",
      "Employment.Type_Self employed                                                            225493 non-null uint8\n",
      "PERFORM_CNS.SCORE.DESCRIPTION_B-Very Low Risk                                            225493 non-null uint8\n",
      "PERFORM_CNS.SCORE.DESCRIPTION_C-Very Low Risk                                            225493 non-null uint8\n",
      "PERFORM_CNS.SCORE.DESCRIPTION_D-Very Low Risk                                            225493 non-null uint8\n",
      "PERFORM_CNS.SCORE.DESCRIPTION_E-Low Risk                                                 225493 non-null uint8\n",
      "PERFORM_CNS.SCORE.DESCRIPTION_F-Low Risk                                                 225493 non-null uint8\n",
      "PERFORM_CNS.SCORE.DESCRIPTION_G-Low Risk                                                 225493 non-null uint8\n",
      "PERFORM_CNS.SCORE.DESCRIPTION_H-Medium Risk                                              225493 non-null uint8\n",
      "PERFORM_CNS.SCORE.DESCRIPTION_I-Medium Risk                                              225493 non-null uint8\n",
      "PERFORM_CNS.SCORE.DESCRIPTION_J-High Risk                                                225493 non-null uint8\n",
      "PERFORM_CNS.SCORE.DESCRIPTION_K-High Risk                                                225493 non-null uint8\n",
      "PERFORM_CNS.SCORE.DESCRIPTION_L-Very High Risk                                           225493 non-null uint8\n",
      "PERFORM_CNS.SCORE.DESCRIPTION_M-Very High Risk                                           225493 non-null uint8\n",
      "PERFORM_CNS.SCORE.DESCRIPTION_No Bureau History Available                                225493 non-null uint8\n",
      "PERFORM_CNS.SCORE.DESCRIPTION_Not Scored: More than 50 active Accounts found             225493 non-null uint8\n",
      "PERFORM_CNS.SCORE.DESCRIPTION_Not Scored: No Activity seen on the customer (Inactive)    225493 non-null uint8\n",
      "PERFORM_CNS.SCORE.DESCRIPTION_Not Scored: No Updates available in last 36 months         225493 non-null uint8\n",
      "PERFORM_CNS.SCORE.DESCRIPTION_Not Scored: Not Enough Info available on the customer      225493 non-null uint8\n",
      "PERFORM_CNS.SCORE.DESCRIPTION_Not Scored: Only a Guarantor                               225493 non-null uint8\n",
      "PERFORM_CNS.SCORE.DESCRIPTION_Not Scored: Sufficient History Not Available               225493 non-null uint8\n",
      "dtypes: float64(1), int32(2), int64(34), uint8(20)\n",
      "memory usage: 78.0 MB\n"
     ]
    }
   ],
   "source": [
    "trainfeature.info()"
   ]
  },
  {
   "cell_type": "code",
   "execution_count": null,
   "metadata": {},
   "outputs": [],
   "source": [
    "AVERAGE.ACCT.AG"
   ]
  }
 ],
 "metadata": {
  "kernelspec": {
   "display_name": "Python 3",
   "language": "python",
   "name": "python3"
  },
  "language_info": {
   "codemirror_mode": {
    "name": "ipython",
    "version": 3
   },
   "file_extension": ".py",
   "mimetype": "text/x-python",
   "name": "python",
   "nbconvert_exporter": "python",
   "pygments_lexer": "ipython3",
   "version": "3.6.5"
  }
 },
 "nbformat": 4,
 "nbformat_minor": 2
}
